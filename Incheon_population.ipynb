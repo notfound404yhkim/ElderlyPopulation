{
 "cells": [
  {
   "cell_type": "code",
   "execution_count": 1,
   "id": "e6a9038f",
   "metadata": {},
   "outputs": [],
   "source": [
    "import pandas as pd\n",
    "import numpy as np\n",
    "import matplotlib.pyplot as plt\n",
    "import seaborn as sb "
   ]
  },
  {
   "cell_type": "code",
   "execution_count": 2,
   "id": "0f3cbb2d",
   "metadata": {},
   "outputs": [],
   "source": [
    "df = pd.read_csv('./data/Incheon_populationv2.csv',encoding = 'euc-kr')"
   ]
  },
  {
   "cell_type": "code",
   "execution_count": 3,
   "id": "e10d5839",
   "metadata": {},
   "outputs": [],
   "source": [
    "#df = pd.read_csv('./data/Incheon_populationv2.csv',encoding = 'euc-kr',index_col=0)"
   ]
  },
  {
   "cell_type": "code",
   "execution_count": 4,
   "id": "0d212839",
   "metadata": {},
   "outputs": [
    {
     "data": {
      "text/html": [
       "<div>\n",
       "<style scoped>\n",
       "    .dataframe tbody tr th:only-of-type {\n",
       "        vertical-align: middle;\n",
       "    }\n",
       "\n",
       "    .dataframe tbody tr th {\n",
       "        vertical-align: top;\n",
       "    }\n",
       "\n",
       "    .dataframe thead th {\n",
       "        text-align: right;\n",
       "    }\n",
       "</style>\n",
       "<table border=\"1\" class=\"dataframe\">\n",
       "  <thead>\n",
       "    <tr style=\"text-align: right;\">\n",
       "      <th></th>\n",
       "      <th>year</th>\n",
       "      <th>man(korean)</th>\n",
       "      <th>woman(korean)</th>\n",
       "      <th>man(foreigner)</th>\n",
       "      <th>woman(foreigner)</th>\n",
       "      <th>oldman</th>\n",
       "    </tr>\n",
       "  </thead>\n",
       "  <tbody>\n",
       "    <tr>\n",
       "      <th>0</th>\n",
       "      <td>2011</td>\n",
       "      <td>1410980</td>\n",
       "      <td>1390294</td>\n",
       "      <td>30523</td>\n",
       "      <td>19694</td>\n",
       "      <td>250528</td>\n",
       "    </tr>\n",
       "    <tr>\n",
       "      <th>1</th>\n",
       "      <td>2012</td>\n",
       "      <td>1431593</td>\n",
       "      <td>1412388</td>\n",
       "      <td>28099</td>\n",
       "      <td>19206</td>\n",
       "      <td>260107</td>\n",
       "    </tr>\n",
       "    <tr>\n",
       "      <th>2</th>\n",
       "      <td>2013</td>\n",
       "      <td>1448835</td>\n",
       "      <td>1430947</td>\n",
       "      <td>30027</td>\n",
       "      <td>20355</td>\n",
       "      <td>282471</td>\n",
       "    </tr>\n",
       "    <tr>\n",
       "      <th>3</th>\n",
       "      <td>2014</td>\n",
       "      <td>1459074</td>\n",
       "      <td>1443534</td>\n",
       "      <td>33030</td>\n",
       "      <td>22293</td>\n",
       "      <td>298818</td>\n",
       "    </tr>\n",
       "    <tr>\n",
       "      <th>4</th>\n",
       "      <td>2015</td>\n",
       "      <td>1469869</td>\n",
       "      <td>1455946</td>\n",
       "      <td>33770</td>\n",
       "      <td>23899</td>\n",
       "      <td>312905</td>\n",
       "    </tr>\n",
       "    <tr>\n",
       "      <th>5</th>\n",
       "      <td>2016</td>\n",
       "      <td>1477671</td>\n",
       "      <td>1465398</td>\n",
       "      <td>34394</td>\n",
       "      <td>24709</td>\n",
       "      <td>324255</td>\n",
       "    </tr>\n",
       "    <tr>\n",
       "      <th>6</th>\n",
       "      <td>2017</td>\n",
       "      <td>1479597</td>\n",
       "      <td>1468945</td>\n",
       "      <td>36353</td>\n",
       "      <td>26243</td>\n",
       "      <td>345024</td>\n",
       "    </tr>\n",
       "    <tr>\n",
       "      <th>7</th>\n",
       "      <td>2018</td>\n",
       "      <td>1481844</td>\n",
       "      <td>1472798</td>\n",
       "      <td>39200</td>\n",
       "      <td>28669</td>\n",
       "      <td>362675</td>\n",
       "    </tr>\n",
       "    <tr>\n",
       "      <th>8</th>\n",
       "      <td>2019</td>\n",
       "      <td>1482249</td>\n",
       "      <td>1474777</td>\n",
       "      <td>41155</td>\n",
       "      <td>31104</td>\n",
       "      <td>384506</td>\n",
       "    </tr>\n",
       "    <tr>\n",
       "      <th>9</th>\n",
       "      <td>2020</td>\n",
       "      <td>1473943</td>\n",
       "      <td>1468885</td>\n",
       "      <td>38152</td>\n",
       "      <td>29496</td>\n",
       "      <td>411483</td>\n",
       "    </tr>\n",
       "    <tr>\n",
       "      <th>10</th>\n",
       "      <td>2021</td>\n",
       "      <td>1427672</td>\n",
       "      <td>1428993</td>\n",
       "      <td>54530</td>\n",
       "      <td>45849</td>\n",
       "      <td>432149</td>\n",
       "    </tr>\n",
       "    <tr>\n",
       "      <th>11</th>\n",
       "      <td>2022</td>\n",
       "      <td>1438975</td>\n",
       "      <td>1439949</td>\n",
       "      <td>60130</td>\n",
       "      <td>50071</td>\n",
       "      <td>461596</td>\n",
       "    </tr>\n",
       "  </tbody>\n",
       "</table>\n",
       "</div>"
      ],
      "text/plain": [
       "    year  man(korean)  woman(korean)  man(foreigner)  woman(foreigner)  oldman\n",
       "0   2011      1410980        1390294           30523             19694  250528\n",
       "1   2012      1431593        1412388           28099             19206  260107\n",
       "2   2013      1448835        1430947           30027             20355  282471\n",
       "3   2014      1459074        1443534           33030             22293  298818\n",
       "4   2015      1469869        1455946           33770             23899  312905\n",
       "5   2016      1477671        1465398           34394             24709  324255\n",
       "6   2017      1479597        1468945           36353             26243  345024\n",
       "7   2018      1481844        1472798           39200             28669  362675\n",
       "8   2019      1482249        1474777           41155             31104  384506\n",
       "9   2020      1473943        1468885           38152             29496  411483\n",
       "10  2021      1427672        1428993           54530             45849  432149\n",
       "11  2022      1438975        1439949           60130             50071  461596"
      ]
     },
     "execution_count": 4,
     "metadata": {},
     "output_type": "execute_result"
    }
   ],
   "source": [
    "df"
   ]
  },
  {
   "cell_type": "code",
   "execution_count": 5,
   "id": "b6c765bc",
   "metadata": {},
   "outputs": [],
   "source": [
    "# df['year'] = df['year'].astype(str)"
   ]
  },
  {
   "cell_type": "code",
   "execution_count": 6,
   "id": "e1c33193",
   "metadata": {},
   "outputs": [
    {
     "name": "stdout",
     "output_type": "stream",
     "text": [
      "[0, 1, 2, 3, 4, 5, 6, 7, 8, 9, 10, 11]\n"
     ]
    }
   ],
   "source": [
    "print(df.index.to_list())"
   ]
  },
  {
   "cell_type": "code",
   "execution_count": 7,
   "id": "73559b81",
   "metadata": {},
   "outputs": [
    {
     "data": {
      "image/png": "[encoded data removed]",
      "text/plain": [
       "<Figure size 640x480 with 1 Axes>"
      ]
     },
     "metadata": {},
     "output_type": "display_data"
    }
   ],
   "source": [
    "plt.style.use('ggplot')\n",
    "plt.title('Incheon elderly population ')\n",
    "plt.xlabel('year')\n",
    "plt.ylabel('persons')\n",
    "plt.plot(df['oldman'])\n",
    "plt.show()"
   ]
  },
  {
   "cell_type": "code",
   "execution_count": 8,
   "id": "774e92a6",
   "metadata": {},
   "outputs": [
    {
     "ename": "KeyError",
     "evalue": "2020",
     "output_type": "error",
     "traceback": [
      "\u001b[1;31m---------------------------------------------------------------------------\u001b[0m",
      "\u001b[1;31mValueError\u001b[0m                                Traceback (most recent call last)",
      "File \u001b[1;32mC:\\ProgramData\\anaconda3\\Lib\\site-packages\\pandas\\core\\indexes\\range.py:391\u001b[0m, in \u001b[0;36mRangeIndex.get_loc\u001b[1;34m(self, key, method, tolerance)\u001b[0m\n\u001b[0;32m    390\u001b[0m \u001b[38;5;28;01mtry\u001b[39;00m:\n\u001b[1;32m--> 391\u001b[0m     \u001b[38;5;28;01mreturn\u001b[39;00m \u001b[38;5;28mself\u001b[39m\u001b[38;5;241m.\u001b[39m_range\u001b[38;5;241m.\u001b[39mindex(new_key)\n\u001b[0;32m    392\u001b[0m \u001b[38;5;28;01mexcept\u001b[39;00m \u001b[38;5;167;01mValueError\u001b[39;00m \u001b[38;5;28;01mas\u001b[39;00m err:\n",
      "\u001b[1;31mValueError\u001b[0m: 2020 is not in range",
      "\nThe above exception was the direct cause of the following exception:\n",
      "\u001b[1;31mKeyError\u001b[0m                                  Traceback (most recent call last)",
      "Cell \u001b[1;32mIn[8], line 1\u001b[0m\n\u001b[1;32m----> 1\u001b[0m df\u001b[38;5;241m.\u001b[39mloc[\u001b[38;5;241m2020\u001b[39m ,  \u001b[38;5;124m'\u001b[39m\u001b[38;5;124mwoman(korean)\u001b[39m\u001b[38;5;124m'\u001b[39m ]\n",
      "File \u001b[1;32mC:\\ProgramData\\anaconda3\\Lib\\site-packages\\pandas\\core\\indexing.py:1066\u001b[0m, in \u001b[0;36m_LocationIndexer.__getitem__\u001b[1;34m(self, key)\u001b[0m\n\u001b[0;32m   1064\u001b[0m     key \u001b[38;5;241m=\u001b[39m \u001b[38;5;28mtuple\u001b[39m(com\u001b[38;5;241m.\u001b[39mapply_if_callable(x, \u001b[38;5;28mself\u001b[39m\u001b[38;5;241m.\u001b[39mobj) \u001b[38;5;28;01mfor\u001b[39;00m x \u001b[38;5;129;01min\u001b[39;00m key)\n\u001b[0;32m   1065\u001b[0m     \u001b[38;5;28;01mif\u001b[39;00m \u001b[38;5;28mself\u001b[39m\u001b[38;5;241m.\u001b[39m_is_scalar_access(key):\n\u001b[1;32m-> 1066\u001b[0m         \u001b[38;5;28;01mreturn\u001b[39;00m \u001b[38;5;28mself\u001b[39m\u001b[38;5;241m.\u001b[39mobj\u001b[38;5;241m.\u001b[39m_get_value(\u001b[38;5;241m*\u001b[39mkey, takeable\u001b[38;5;241m=\u001b[39m\u001b[38;5;28mself\u001b[39m\u001b[38;5;241m.\u001b[39m_takeable)\n\u001b[0;32m   1067\u001b[0m     \u001b[38;5;28;01mreturn\u001b[39;00m \u001b[38;5;28mself\u001b[39m\u001b[38;5;241m.\u001b[39m_getitem_tuple(key)\n\u001b[0;32m   1068\u001b[0m \u001b[38;5;28;01melse\u001b[39;00m:\n\u001b[0;32m   1069\u001b[0m     \u001b[38;5;66;03m# we by definition only have the 0th axis\u001b[39;00m\n",
      "File \u001b[1;32mC:\\ProgramData\\anaconda3\\Lib\\site-packages\\pandas\\core\\frame.py:3924\u001b[0m, in \u001b[0;36mDataFrame._get_value\u001b[1;34m(self, index, col, takeable)\u001b[0m\n\u001b[0;32m   3918\u001b[0m engine \u001b[38;5;241m=\u001b[39m \u001b[38;5;28mself\u001b[39m\u001b[38;5;241m.\u001b[39mindex\u001b[38;5;241m.\u001b[39m_engine\n\u001b[0;32m   3920\u001b[0m \u001b[38;5;28;01mif\u001b[39;00m \u001b[38;5;129;01mnot\u001b[39;00m \u001b[38;5;28misinstance\u001b[39m(\u001b[38;5;28mself\u001b[39m\u001b[38;5;241m.\u001b[39mindex, MultiIndex):\n\u001b[0;32m   3921\u001b[0m     \u001b[38;5;66;03m# CategoricalIndex: Trying to use the engine fastpath may give incorrect\u001b[39;00m\n\u001b[0;32m   3922\u001b[0m     \u001b[38;5;66;03m#  results if our categories are integers that dont match our codes\u001b[39;00m\n\u001b[0;32m   3923\u001b[0m     \u001b[38;5;66;03m# IntervalIndex: IntervalTree has no get_loc\u001b[39;00m\n\u001b[1;32m-> 3924\u001b[0m     row \u001b[38;5;241m=\u001b[39m \u001b[38;5;28mself\u001b[39m\u001b[38;5;241m.\u001b[39mindex\u001b[38;5;241m.\u001b[39mget_loc(index)\n\u001b[0;32m   3925\u001b[0m     \u001b[38;5;28;01mreturn\u001b[39;00m series\u001b[38;5;241m.\u001b[39m_values[row]\n\u001b[0;32m   3927\u001b[0m \u001b[38;5;66;03m# For MultiIndex going through engine effectively restricts us to\u001b[39;00m\n\u001b[0;32m   3928\u001b[0m \u001b[38;5;66;03m#  same-length tuples; see test_get_set_value_no_partial_indexing\u001b[39;00m\n",
      "File \u001b[1;32mC:\\ProgramData\\anaconda3\\Lib\\site-packages\\pandas\\core\\indexes\\range.py:393\u001b[0m, in \u001b[0;36mRangeIndex.get_loc\u001b[1;34m(self, key, method, tolerance)\u001b[0m\n\u001b[0;32m    391\u001b[0m         \u001b[38;5;28;01mreturn\u001b[39;00m \u001b[38;5;28mself\u001b[39m\u001b[38;5;241m.\u001b[39m_range\u001b[38;5;241m.\u001b[39mindex(new_key)\n\u001b[0;32m    392\u001b[0m     \u001b[38;5;28;01mexcept\u001b[39;00m \u001b[38;5;167;01mValueError\u001b[39;00m \u001b[38;5;28;01mas\u001b[39;00m err:\n\u001b[1;32m--> 393\u001b[0m         \u001b[38;5;28;01mraise\u001b[39;00m \u001b[38;5;167;01mKeyError\u001b[39;00m(key) \u001b[38;5;28;01mfrom\u001b[39;00m \u001b[38;5;21;01merr\u001b[39;00m\n\u001b[0;32m    394\u001b[0m \u001b[38;5;28mself\u001b[39m\u001b[38;5;241m.\u001b[39m_check_indexing_error(key)\n\u001b[0;32m    395\u001b[0m \u001b[38;5;28;01mraise\u001b[39;00m \u001b[38;5;167;01mKeyError\u001b[39;00m(key)\n",
      "\u001b[1;31mKeyError\u001b[0m: 2020"
     ]
    }
   ],
   "source": [
    "df.loc[2020 ,  'woman(korean)' ] "
   ]
  },
  {
   "cell_type": "code",
   "execution_count": 9,
   "id": "dc74485f",
   "metadata": {},
   "outputs": [
    {
     "name": "stdout",
     "output_type": "stream",
     "text": [
      "year                   2011\n",
      "man(korean)         1410980\n",
      "woman(korean)       1390294\n",
      "man(foreigner)        30523\n",
      "woman(foreigner)      19694\n",
      "oldman               250528\n",
      "Name: 0, dtype: int64\n"
     ]
    }
   ],
   "source": [
    "print(df.iloc[0])"
   ]
  },
  {
   "cell_type": "code",
   "execution_count": 10,
   "id": "b2ba1d0c",
   "metadata": {},
   "outputs": [],
   "source": [
    "#제일 노인인구가 적었던 해 "
   ]
  },
  {
   "cell_type": "code",
   "execution_count": 11,
   "id": "bfcba215",
   "metadata": {},
   "outputs": [
    {
     "data": {
      "text/html": [
       "<div>\n",
       "<style scoped>\n",
       "    .dataframe tbody tr th:only-of-type {\n",
       "        vertical-align: middle;\n",
       "    }\n",
       "\n",
       "    .dataframe tbody tr th {\n",
       "        vertical-align: top;\n",
       "    }\n",
       "\n",
       "    .dataframe thead th {\n",
       "        text-align: right;\n",
       "    }\n",
       "</style>\n",
       "<table border=\"1\" class=\"dataframe\">\n",
       "  <thead>\n",
       "    <tr style=\"text-align: right;\">\n",
       "      <th></th>\n",
       "      <th>year</th>\n",
       "      <th>man(korean)</th>\n",
       "      <th>woman(korean)</th>\n",
       "      <th>man(foreigner)</th>\n",
       "      <th>woman(foreigner)</th>\n",
       "      <th>oldman</th>\n",
       "    </tr>\n",
       "  </thead>\n",
       "  <tbody>\n",
       "    <tr>\n",
       "      <th>0</th>\n",
       "      <td>2011</td>\n",
       "      <td>1410980</td>\n",
       "      <td>1390294</td>\n",
       "      <td>30523</td>\n",
       "      <td>19694</td>\n",
       "      <td>250528</td>\n",
       "    </tr>\n",
       "  </tbody>\n",
       "</table>\n",
       "</div>"
      ],
      "text/plain": [
       "   year  man(korean)  woman(korean)  man(foreigner)  woman(foreigner)  oldman\n",
       "0  2011      1410980        1390294           30523             19694  250528"
      ]
     },
     "execution_count": 11,
     "metadata": {},
     "output_type": "execute_result"
    }
   ],
   "source": [
    "df.loc[ df['oldman'] == df['oldman'].min() , ]"
   ]
  },
  {
   "cell_type": "code",
   "execution_count": 12,
   "id": "4c279a2e",
   "metadata": {},
   "outputs": [],
   "source": [
    "#제일 노인인구가 많았던 해 "
   ]
  },
  {
   "cell_type": "code",
   "execution_count": 13,
   "id": "4d0e4eed",
   "metadata": {},
   "outputs": [
    {
     "data": {
      "text/html": [
       "<div>\n",
       "<style scoped>\n",
       "    .dataframe tbody tr th:only-of-type {\n",
       "        vertical-align: middle;\n",
       "    }\n",
       "\n",
       "    .dataframe tbody tr th {\n",
       "        vertical-align: top;\n",
       "    }\n",
       "\n",
       "    .dataframe thead th {\n",
       "        text-align: right;\n",
       "    }\n",
       "</style>\n",
       "<table border=\"1\" class=\"dataframe\">\n",
       "  <thead>\n",
       "    <tr style=\"text-align: right;\">\n",
       "      <th></th>\n",
       "      <th>year</th>\n",
       "      <th>man(korean)</th>\n",
       "      <th>woman(korean)</th>\n",
       "      <th>man(foreigner)</th>\n",
       "      <th>woman(foreigner)</th>\n",
       "      <th>oldman</th>\n",
       "    </tr>\n",
       "  </thead>\n",
       "  <tbody>\n",
       "    <tr>\n",
       "      <th>11</th>\n",
       "      <td>2022</td>\n",
       "      <td>1438975</td>\n",
       "      <td>1439949</td>\n",
       "      <td>60130</td>\n",
       "      <td>50071</td>\n",
       "      <td>461596</td>\n",
       "    </tr>\n",
       "  </tbody>\n",
       "</table>\n",
       "</div>"
      ],
      "text/plain": [
       "    year  man(korean)  woman(korean)  man(foreigner)  woman(foreigner)  oldman\n",
       "11  2022      1438975        1439949           60130             50071  461596"
      ]
     },
     "execution_count": 13,
     "metadata": {},
     "output_type": "execute_result"
    }
   ],
   "source": [
    "df.loc[ df['oldman'] == df['oldman'].max() , ]"
   ]
  },
  {
   "cell_type": "code",
   "execution_count": 14,
   "id": "43af7067",
   "metadata": {},
   "outputs": [
    {
     "data": {
      "text/html": [
       "<div>\n",
       "<style scoped>\n",
       "    .dataframe tbody tr th:only-of-type {\n",
       "        vertical-align: middle;\n",
       "    }\n",
       "\n",
       "    .dataframe tbody tr th {\n",
       "        vertical-align: top;\n",
       "    }\n",
       "\n",
       "    .dataframe thead th {\n",
       "        text-align: right;\n",
       "    }\n",
       "</style>\n",
       "<table border=\"1\" class=\"dataframe\">\n",
       "  <thead>\n",
       "    <tr style=\"text-align: right;\">\n",
       "      <th></th>\n",
       "      <th>year</th>\n",
       "      <th>man(korean)</th>\n",
       "      <th>woman(korean)</th>\n",
       "      <th>man(foreigner)</th>\n",
       "      <th>woman(foreigner)</th>\n",
       "      <th>oldman</th>\n",
       "    </tr>\n",
       "  </thead>\n",
       "  <tbody>\n",
       "    <tr>\n",
       "      <th>0</th>\n",
       "      <td>2011</td>\n",
       "      <td>1410980</td>\n",
       "      <td>1390294</td>\n",
       "      <td>30523</td>\n",
       "      <td>19694</td>\n",
       "      <td>250528</td>\n",
       "    </tr>\n",
       "    <tr>\n",
       "      <th>1</th>\n",
       "      <td>2012</td>\n",
       "      <td>1431593</td>\n",
       "      <td>1412388</td>\n",
       "      <td>28099</td>\n",
       "      <td>19206</td>\n",
       "      <td>260107</td>\n",
       "    </tr>\n",
       "    <tr>\n",
       "      <th>2</th>\n",
       "      <td>2013</td>\n",
       "      <td>1448835</td>\n",
       "      <td>1430947</td>\n",
       "      <td>30027</td>\n",
       "      <td>20355</td>\n",
       "      <td>282471</td>\n",
       "    </tr>\n",
       "    <tr>\n",
       "      <th>3</th>\n",
       "      <td>2014</td>\n",
       "      <td>1459074</td>\n",
       "      <td>1443534</td>\n",
       "      <td>33030</td>\n",
       "      <td>22293</td>\n",
       "      <td>298818</td>\n",
       "    </tr>\n",
       "    <tr>\n",
       "      <th>4</th>\n",
       "      <td>2015</td>\n",
       "      <td>1469869</td>\n",
       "      <td>1455946</td>\n",
       "      <td>33770</td>\n",
       "      <td>23899</td>\n",
       "      <td>312905</td>\n",
       "    </tr>\n",
       "    <tr>\n",
       "      <th>5</th>\n",
       "      <td>2016</td>\n",
       "      <td>1477671</td>\n",
       "      <td>1465398</td>\n",
       "      <td>34394</td>\n",
       "      <td>24709</td>\n",
       "      <td>324255</td>\n",
       "    </tr>\n",
       "    <tr>\n",
       "      <th>6</th>\n",
       "      <td>2017</td>\n",
       "      <td>1479597</td>\n",
       "      <td>1468945</td>\n",
       "      <td>36353</td>\n",
       "      <td>26243</td>\n",
       "      <td>345024</td>\n",
       "    </tr>\n",
       "    <tr>\n",
       "      <th>7</th>\n",
       "      <td>2018</td>\n",
       "      <td>1481844</td>\n",
       "      <td>1472798</td>\n",
       "      <td>39200</td>\n",
       "      <td>28669</td>\n",
       "      <td>362675</td>\n",
       "    </tr>\n",
       "    <tr>\n",
       "      <th>8</th>\n",
       "      <td>2019</td>\n",
       "      <td>1482249</td>\n",
       "      <td>1474777</td>\n",
       "      <td>41155</td>\n",
       "      <td>31104</td>\n",
       "      <td>384506</td>\n",
       "    </tr>\n",
       "    <tr>\n",
       "      <th>9</th>\n",
       "      <td>2020</td>\n",
       "      <td>1473943</td>\n",
       "      <td>1468885</td>\n",
       "      <td>38152</td>\n",
       "      <td>29496</td>\n",
       "      <td>411483</td>\n",
       "    </tr>\n",
       "    <tr>\n",
       "      <th>10</th>\n",
       "      <td>2021</td>\n",
       "      <td>1427672</td>\n",
       "      <td>1428993</td>\n",
       "      <td>54530</td>\n",
       "      <td>45849</td>\n",
       "      <td>432149</td>\n",
       "    </tr>\n",
       "    <tr>\n",
       "      <th>11</th>\n",
       "      <td>2022</td>\n",
       "      <td>1438975</td>\n",
       "      <td>1439949</td>\n",
       "      <td>60130</td>\n",
       "      <td>50071</td>\n",
       "      <td>461596</td>\n",
       "    </tr>\n",
       "  </tbody>\n",
       "</table>\n",
       "</div>"
      ],
      "text/plain": [
       "    year  man(korean)  woman(korean)  man(foreigner)  woman(foreigner)  oldman\n",
       "0   2011      1410980        1390294           30523             19694  250528\n",
       "1   2012      1431593        1412388           28099             19206  260107\n",
       "2   2013      1448835        1430947           30027             20355  282471\n",
       "3   2014      1459074        1443534           33030             22293  298818\n",
       "4   2015      1469869        1455946           33770             23899  312905\n",
       "5   2016      1477671        1465398           34394             24709  324255\n",
       "6   2017      1479597        1468945           36353             26243  345024\n",
       "7   2018      1481844        1472798           39200             28669  362675\n",
       "8   2019      1482249        1474777           41155             31104  384506\n",
       "9   2020      1473943        1468885           38152             29496  411483\n",
       "10  2021      1427672        1428993           54530             45849  432149\n",
       "11  2022      1438975        1439949           60130             50071  461596"
      ]
     },
     "execution_count": 14,
     "metadata": {},
     "output_type": "execute_result"
    }
   ],
   "source": [
    "df"
   ]
  },
  {
   "cell_type": "code",
   "execution_count": 15,
   "id": "49ac760c",
   "metadata": {},
   "outputs": [
    {
     "ename": "KeyError",
     "evalue": "\"None of [Int64Index([2019, 2020], dtype='int64')] are in the [index]\"",
     "output_type": "error",
     "traceback": [
      "\u001b[1;31m---------------------------------------------------------------------------\u001b[0m",
      "\u001b[1;31mKeyError\u001b[0m                                  Traceback (most recent call last)",
      "Cell \u001b[1;32mIn[15], line 1\u001b[0m\n\u001b[1;32m----> 1\u001b[0m \u001b[38;5;28mprint\u001b[39m(df\u001b[38;5;241m.\u001b[39mloc[[\u001b[38;5;241m2019\u001b[39m,\u001b[38;5;241m2020\u001b[39m],[\u001b[38;5;124m'\u001b[39m\u001b[38;5;124mman(korean)\u001b[39m\u001b[38;5;124m'\u001b[39m,\u001b[38;5;124m'\u001b[39m\u001b[38;5;124mwoman(korean)\u001b[39m\u001b[38;5;124m'\u001b[39m,\u001b[38;5;124m'\u001b[39m\u001b[38;5;124mman(foreigner)\u001b[39m\u001b[38;5;124m'\u001b[39m,\u001b[38;5;124m'\u001b[39m\u001b[38;5;124mwoman(foreigner)\u001b[39m\u001b[38;5;124m'\u001b[39m]])\n",
      "File \u001b[1;32mC:\\ProgramData\\anaconda3\\Lib\\site-packages\\pandas\\core\\indexing.py:1067\u001b[0m, in \u001b[0;36m_LocationIndexer.__getitem__\u001b[1;34m(self, key)\u001b[0m\n\u001b[0;32m   1065\u001b[0m     \u001b[38;5;28;01mif\u001b[39;00m \u001b[38;5;28mself\u001b[39m\u001b[38;5;241m.\u001b[39m_is_scalar_access(key):\n\u001b[0;32m   1066\u001b[0m         \u001b[38;5;28;01mreturn\u001b[39;00m \u001b[38;5;28mself\u001b[39m\u001b[38;5;241m.\u001b[39mobj\u001b[38;5;241m.\u001b[39m_get_value(\u001b[38;5;241m*\u001b[39mkey, takeable\u001b[38;5;241m=\u001b[39m\u001b[38;5;28mself\u001b[39m\u001b[38;5;241m.\u001b[39m_takeable)\n\u001b[1;32m-> 1067\u001b[0m     \u001b[38;5;28;01mreturn\u001b[39;00m \u001b[38;5;28mself\u001b[39m\u001b[38;5;241m.\u001b[39m_getitem_tuple(key)\n\u001b[0;32m   1068\u001b[0m \u001b[38;5;28;01melse\u001b[39;00m:\n\u001b[0;32m   1069\u001b[0m     \u001b[38;5;66;03m# we by definition only have the 0th axis\u001b[39;00m\n\u001b[0;32m   1070\u001b[0m     axis \u001b[38;5;241m=\u001b[39m \u001b[38;5;28mself\u001b[39m\u001b[38;5;241m.\u001b[39maxis \u001b[38;5;129;01mor\u001b[39;00m \u001b[38;5;241m0\u001b[39m\n",
      "File \u001b[1;32mC:\\ProgramData\\anaconda3\\Lib\\site-packages\\pandas\\core\\indexing.py:1254\u001b[0m, in \u001b[0;36m_LocIndexer._getitem_tuple\u001b[1;34m(self, tup)\u001b[0m\n\u001b[0;32m   1252\u001b[0m \u001b[38;5;66;03m# ugly hack for GH #836\u001b[39;00m\n\u001b[0;32m   1253\u001b[0m \u001b[38;5;28;01mif\u001b[39;00m \u001b[38;5;28mself\u001b[39m\u001b[38;5;241m.\u001b[39m_multi_take_opportunity(tup):\n\u001b[1;32m-> 1254\u001b[0m     \u001b[38;5;28;01mreturn\u001b[39;00m \u001b[38;5;28mself\u001b[39m\u001b[38;5;241m.\u001b[39m_multi_take(tup)\n\u001b[0;32m   1256\u001b[0m \u001b[38;5;28;01mreturn\u001b[39;00m \u001b[38;5;28mself\u001b[39m\u001b[38;5;241m.\u001b[39m_getitem_tuple_same_dim(tup)\n",
      "File \u001b[1;32mC:\\ProgramData\\anaconda3\\Lib\\site-packages\\pandas\\core\\indexing.py:1205\u001b[0m, in \u001b[0;36m_LocIndexer._multi_take\u001b[1;34m(self, tup)\u001b[0m\n\u001b[0;32m   1189\u001b[0m \u001b[38;5;250m\u001b[39m\u001b[38;5;124;03m\"\"\"\u001b[39;00m\n\u001b[0;32m   1190\u001b[0m \u001b[38;5;124;03mCreate the indexers for the passed tuple of keys, and\u001b[39;00m\n\u001b[0;32m   1191\u001b[0m \u001b[38;5;124;03mexecutes the take operation. This allows the take operation to be\u001b[39;00m\n\u001b[1;32m   (...)\u001b[0m\n\u001b[0;32m   1202\u001b[0m \u001b[38;5;124;03mvalues: same type as the object being indexed\u001b[39;00m\n\u001b[0;32m   1203\u001b[0m \u001b[38;5;124;03m\"\"\"\u001b[39;00m\n\u001b[0;32m   1204\u001b[0m \u001b[38;5;66;03m# GH 836\u001b[39;00m\n\u001b[1;32m-> 1205\u001b[0m d \u001b[38;5;241m=\u001b[39m {\n\u001b[0;32m   1206\u001b[0m     axis: \u001b[38;5;28mself\u001b[39m\u001b[38;5;241m.\u001b[39m_get_listlike_indexer(key, axis)\n\u001b[0;32m   1207\u001b[0m     \u001b[38;5;28;01mfor\u001b[39;00m (key, axis) \u001b[38;5;129;01min\u001b[39;00m \u001b[38;5;28mzip\u001b[39m(tup, \u001b[38;5;28mself\u001b[39m\u001b[38;5;241m.\u001b[39mobj\u001b[38;5;241m.\u001b[39m_AXIS_ORDERS)\n\u001b[0;32m   1208\u001b[0m }\n\u001b[0;32m   1209\u001b[0m \u001b[38;5;28;01mreturn\u001b[39;00m \u001b[38;5;28mself\u001b[39m\u001b[38;5;241m.\u001b[39mobj\u001b[38;5;241m.\u001b[39m_reindex_with_indexers(d, copy\u001b[38;5;241m=\u001b[39m\u001b[38;5;28;01mTrue\u001b[39;00m, allow_dups\u001b[38;5;241m=\u001b[39m\u001b[38;5;28;01mTrue\u001b[39;00m)\n",
      "File \u001b[1;32mC:\\ProgramData\\anaconda3\\Lib\\site-packages\\pandas\\core\\indexing.py:1206\u001b[0m, in \u001b[0;36m<dictcomp>\u001b[1;34m(.0)\u001b[0m\n\u001b[0;32m   1189\u001b[0m \u001b[38;5;250m\u001b[39m\u001b[38;5;124;03m\"\"\"\u001b[39;00m\n\u001b[0;32m   1190\u001b[0m \u001b[38;5;124;03mCreate the indexers for the passed tuple of keys, and\u001b[39;00m\n\u001b[0;32m   1191\u001b[0m \u001b[38;5;124;03mexecutes the take operation. This allows the take operation to be\u001b[39;00m\n\u001b[1;32m   (...)\u001b[0m\n\u001b[0;32m   1202\u001b[0m \u001b[38;5;124;03mvalues: same type as the object being indexed\u001b[39;00m\n\u001b[0;32m   1203\u001b[0m \u001b[38;5;124;03m\"\"\"\u001b[39;00m\n\u001b[0;32m   1204\u001b[0m \u001b[38;5;66;03m# GH 836\u001b[39;00m\n\u001b[0;32m   1205\u001b[0m d \u001b[38;5;241m=\u001b[39m {\n\u001b[1;32m-> 1206\u001b[0m     axis: \u001b[38;5;28mself\u001b[39m\u001b[38;5;241m.\u001b[39m_get_listlike_indexer(key, axis)\n\u001b[0;32m   1207\u001b[0m     \u001b[38;5;28;01mfor\u001b[39;00m (key, axis) \u001b[38;5;129;01min\u001b[39;00m \u001b[38;5;28mzip\u001b[39m(tup, \u001b[38;5;28mself\u001b[39m\u001b[38;5;241m.\u001b[39mobj\u001b[38;5;241m.\u001b[39m_AXIS_ORDERS)\n\u001b[0;32m   1208\u001b[0m }\n\u001b[0;32m   1209\u001b[0m \u001b[38;5;28;01mreturn\u001b[39;00m \u001b[38;5;28mself\u001b[39m\u001b[38;5;241m.\u001b[39mobj\u001b[38;5;241m.\u001b[39m_reindex_with_indexers(d, copy\u001b[38;5;241m=\u001b[39m\u001b[38;5;28;01mTrue\u001b[39;00m, allow_dups\u001b[38;5;241m=\u001b[39m\u001b[38;5;28;01mTrue\u001b[39;00m)\n",
      "File \u001b[1;32mC:\\ProgramData\\anaconda3\\Lib\\site-packages\\pandas\\core\\indexing.py:1432\u001b[0m, in \u001b[0;36m_LocIndexer._get_listlike_indexer\u001b[1;34m(self, key, axis)\u001b[0m\n\u001b[0;32m   1429\u001b[0m ax \u001b[38;5;241m=\u001b[39m \u001b[38;5;28mself\u001b[39m\u001b[38;5;241m.\u001b[39mobj\u001b[38;5;241m.\u001b[39m_get_axis(axis)\n\u001b[0;32m   1430\u001b[0m axis_name \u001b[38;5;241m=\u001b[39m \u001b[38;5;28mself\u001b[39m\u001b[38;5;241m.\u001b[39mobj\u001b[38;5;241m.\u001b[39m_get_axis_name(axis)\n\u001b[1;32m-> 1432\u001b[0m keyarr, indexer \u001b[38;5;241m=\u001b[39m ax\u001b[38;5;241m.\u001b[39m_get_indexer_strict(key, axis_name)\n\u001b[0;32m   1434\u001b[0m \u001b[38;5;28;01mreturn\u001b[39;00m keyarr, indexer\n",
      "File \u001b[1;32mC:\\ProgramData\\anaconda3\\Lib\\site-packages\\pandas\\core\\indexes\\base.py:6070\u001b[0m, in \u001b[0;36mIndex._get_indexer_strict\u001b[1;34m(self, key, axis_name)\u001b[0m\n\u001b[0;32m   6067\u001b[0m \u001b[38;5;28;01melse\u001b[39;00m:\n\u001b[0;32m   6068\u001b[0m     keyarr, indexer, new_indexer \u001b[38;5;241m=\u001b[39m \u001b[38;5;28mself\u001b[39m\u001b[38;5;241m.\u001b[39m_reindex_non_unique(keyarr)\n\u001b[1;32m-> 6070\u001b[0m \u001b[38;5;28mself\u001b[39m\u001b[38;5;241m.\u001b[39m_raise_if_missing(keyarr, indexer, axis_name)\n\u001b[0;32m   6072\u001b[0m keyarr \u001b[38;5;241m=\u001b[39m \u001b[38;5;28mself\u001b[39m\u001b[38;5;241m.\u001b[39mtake(indexer)\n\u001b[0;32m   6073\u001b[0m \u001b[38;5;28;01mif\u001b[39;00m \u001b[38;5;28misinstance\u001b[39m(key, Index):\n\u001b[0;32m   6074\u001b[0m     \u001b[38;5;66;03m# GH 42790 - Preserve name from an Index\u001b[39;00m\n",
      "File \u001b[1;32mC:\\ProgramData\\anaconda3\\Lib\\site-packages\\pandas\\core\\indexes\\base.py:6130\u001b[0m, in \u001b[0;36mIndex._raise_if_missing\u001b[1;34m(self, key, indexer, axis_name)\u001b[0m\n\u001b[0;32m   6128\u001b[0m     \u001b[38;5;28;01mif\u001b[39;00m use_interval_msg:\n\u001b[0;32m   6129\u001b[0m         key \u001b[38;5;241m=\u001b[39m \u001b[38;5;28mlist\u001b[39m(key)\n\u001b[1;32m-> 6130\u001b[0m     \u001b[38;5;28;01mraise\u001b[39;00m \u001b[38;5;167;01mKeyError\u001b[39;00m(\u001b[38;5;124mf\u001b[39m\u001b[38;5;124m\"\u001b[39m\u001b[38;5;124mNone of [\u001b[39m\u001b[38;5;132;01m{\u001b[39;00mkey\u001b[38;5;132;01m}\u001b[39;00m\u001b[38;5;124m] are in the [\u001b[39m\u001b[38;5;132;01m{\u001b[39;00maxis_name\u001b[38;5;132;01m}\u001b[39;00m\u001b[38;5;124m]\u001b[39m\u001b[38;5;124m\"\u001b[39m)\n\u001b[0;32m   6132\u001b[0m not_found \u001b[38;5;241m=\u001b[39m \u001b[38;5;28mlist\u001b[39m(ensure_index(key)[missing_mask\u001b[38;5;241m.\u001b[39mnonzero()[\u001b[38;5;241m0\u001b[39m]]\u001b[38;5;241m.\u001b[39munique())\n\u001b[0;32m   6133\u001b[0m \u001b[38;5;28;01mraise\u001b[39;00m \u001b[38;5;167;01mKeyError\u001b[39;00m(\u001b[38;5;124mf\u001b[39m\u001b[38;5;124m\"\u001b[39m\u001b[38;5;132;01m{\u001b[39;00mnot_found\u001b[38;5;132;01m}\u001b[39;00m\u001b[38;5;124m not in index\u001b[39m\u001b[38;5;124m\"\u001b[39m)\n",
      "\u001b[1;31mKeyError\u001b[0m: \"None of [Int64Index([2019, 2020], dtype='int64')] are in the [index]\""
     ]
    }
   ],
   "source": [
    "print(df.loc[[2019,2020],['man(korean)','woman(korean)','man(foreigner)','woman(foreigner)']])"
   ]
  },
  {
   "cell_type": "code",
   "execution_count": null,
   "id": "62c31ca6",
   "metadata": {},
   "outputs": [],
   "source": [
    "df2= df.loc[2020]"
   ]
  },
  {
   "cell_type": "code",
   "execution_count": 16,
   "id": "531fef38",
   "metadata": {},
   "outputs": [
    {
     "ename": "NameError",
     "evalue": "name 'df2' is not defined",
     "output_type": "error",
     "traceback": [
      "\u001b[1;31m---------------------------------------------------------------------------\u001b[0m",
      "\u001b[1;31mNameError\u001b[0m                                 Traceback (most recent call last)",
      "Cell \u001b[1;32mIn[16], line 1\u001b[0m\n\u001b[1;32m----> 1\u001b[0m plt\u001b[38;5;241m.\u001b[39mpie(df2, labels \u001b[38;5;241m=\u001b[39m df2\u001b[38;5;241m.\u001b[39mindex, autopct\u001b[38;5;241m=\u001b[39m\u001b[38;5;124m'\u001b[39m\u001b[38;5;132;01m%.1f\u001b[39;00m\u001b[38;5;124m'\u001b[39m,startangle\u001b[38;5;241m=\u001b[39m\u001b[38;5;241m90\u001b[39m,wedgeprops\u001b[38;5;241m=\u001b[39m{\u001b[38;5;124m'\u001b[39m\u001b[38;5;124mwidth\u001b[39m\u001b[38;5;124m'\u001b[39m:\u001b[38;5;241m0.8\u001b[39m})\n\u001b[0;32m      2\u001b[0m plt\u001b[38;5;241m.\u001b[39mlegend()\n\u001b[0;32m      3\u001b[0m plt\u001b[38;5;241m.\u001b[39mtitle(\u001b[38;5;124m'\u001b[39m\u001b[38;5;124m2020 Incheon population\u001b[39m\u001b[38;5;124m'\u001b[39m)\n",
      "\u001b[1;31mNameError\u001b[0m: name 'df2' is not defined"
     ]
    }
   ],
   "source": [
    "plt.pie(df2, labels = df2.index, autopct='%.1f',startangle=90,wedgeprops={'width':0.8})\n",
    "plt.legend()\n",
    "plt.title('2020 Incheon population')\n",
    "plt.show()"
   ]
  },
  {
   "cell_type": "code",
   "execution_count": 17,
   "id": "fcc2ad58",
   "metadata": {},
   "outputs": [
    {
     "data": {
      "text/html": [
       "<div>\n",
       "<style scoped>\n",
       "    .dataframe tbody tr th:only-of-type {\n",
       "        vertical-align: middle;\n",
       "    }\n",
       "\n",
       "    .dataframe tbody tr th {\n",
       "        vertical-align: top;\n",
       "    }\n",
       "\n",
       "    .dataframe thead th {\n",
       "        text-align: right;\n",
       "    }\n",
       "</style>\n",
       "<table border=\"1\" class=\"dataframe\">\n",
       "  <thead>\n",
       "    <tr style=\"text-align: right;\">\n",
       "      <th></th>\n",
       "      <th>year</th>\n",
       "      <th>man(korean)</th>\n",
       "      <th>woman(korean)</th>\n",
       "      <th>man(foreigner)</th>\n",
       "      <th>woman(foreigner)</th>\n",
       "      <th>oldman</th>\n",
       "    </tr>\n",
       "  </thead>\n",
       "  <tbody>\n",
       "    <tr>\n",
       "      <th>count</th>\n",
       "      <td>12.000000</td>\n",
       "      <td>1.200000e+01</td>\n",
       "      <td>1.200000e+01</td>\n",
       "      <td>12.000000</td>\n",
       "      <td>12.000000</td>\n",
       "      <td>12.000000</td>\n",
       "    </tr>\n",
       "    <tr>\n",
       "      <th>mean</th>\n",
       "      <td>2016.500000</td>\n",
       "      <td>1.456858e+06</td>\n",
       "      <td>1.446071e+06</td>\n",
       "      <td>38280.250000</td>\n",
       "      <td>28465.666667</td>\n",
       "      <td>343876.416667</td>\n",
       "    </tr>\n",
       "    <tr>\n",
       "      <th>std</th>\n",
       "      <td>3.605551</td>\n",
       "      <td>2.461419e+04</td>\n",
       "      <td>2.673615e+04</td>\n",
       "      <td>9766.669444</td>\n",
       "      <td>9924.762267</td>\n",
       "      <td>68159.187280</td>\n",
       "    </tr>\n",
       "    <tr>\n",
       "      <th>min</th>\n",
       "      <td>2011.000000</td>\n",
       "      <td>1.410980e+06</td>\n",
       "      <td>1.390294e+06</td>\n",
       "      <td>28099.000000</td>\n",
       "      <td>19206.000000</td>\n",
       "      <td>250528.000000</td>\n",
       "    </tr>\n",
       "    <tr>\n",
       "      <th>25%</th>\n",
       "      <td>2013.750000</td>\n",
       "      <td>1.437130e+06</td>\n",
       "      <td>1.430458e+06</td>\n",
       "      <td>32403.250000</td>\n",
       "      <td>21808.500000</td>\n",
       "      <td>294731.250000</td>\n",
       "    </tr>\n",
       "    <tr>\n",
       "      <th>50%</th>\n",
       "      <td>2016.500000</td>\n",
       "      <td>1.464472e+06</td>\n",
       "      <td>1.449740e+06</td>\n",
       "      <td>35373.500000</td>\n",
       "      <td>25476.000000</td>\n",
       "      <td>334639.500000</td>\n",
       "    </tr>\n",
       "    <tr>\n",
       "      <th>75%</th>\n",
       "      <td>2019.250000</td>\n",
       "      <td>1.478152e+06</td>\n",
       "      <td>1.468900e+06</td>\n",
       "      <td>39688.750000</td>\n",
       "      <td>29898.000000</td>\n",
       "      <td>391250.250000</td>\n",
       "    </tr>\n",
       "    <tr>\n",
       "      <th>max</th>\n",
       "      <td>2022.000000</td>\n",
       "      <td>1.482249e+06</td>\n",
       "      <td>1.474777e+06</td>\n",
       "      <td>60130.000000</td>\n",
       "      <td>50071.000000</td>\n",
       "      <td>461596.000000</td>\n",
       "    </tr>\n",
       "  </tbody>\n",
       "</table>\n",
       "</div>"
      ],
      "text/plain": [
       "              year   man(korean)  woman(korean)  man(foreigner)  \\\n",
       "count    12.000000  1.200000e+01   1.200000e+01       12.000000   \n",
       "mean   2016.500000  1.456858e+06   1.446071e+06    38280.250000   \n",
       "std       3.605551  2.461419e+04   2.673615e+04     9766.669444   \n",
       "min    2011.000000  1.410980e+06   1.390294e+06    28099.000000   \n",
       "25%    2013.750000  1.437130e+06   1.430458e+06    32403.250000   \n",
       "50%    2016.500000  1.464472e+06   1.449740e+06    35373.500000   \n",
       "75%    2019.250000  1.478152e+06   1.468900e+06    39688.750000   \n",
       "max    2022.000000  1.482249e+06   1.474777e+06    60130.000000   \n",
       "\n",
       "       woman(foreigner)         oldman  \n",
       "count         12.000000      12.000000  \n",
       "mean       28465.666667  343876.416667  \n",
       "std         9924.762267   68159.187280  \n",
       "min        19206.000000  250528.000000  \n",
       "25%        21808.500000  294731.250000  \n",
       "50%        25476.000000  334639.500000  \n",
       "75%        29898.000000  391250.250000  \n",
       "max        50071.000000  461596.000000  "
      ]
     },
     "execution_count": 17,
     "metadata": {},
     "output_type": "execute_result"
    }
   ],
   "source": [
    "df.describe()"
   ]
  },
  {
   "cell_type": "code",
   "execution_count": 18,
   "id": "7faca100",
   "metadata": {},
   "outputs": [],
   "source": [
    "# 총 인구 수 와 노인의 상관 관계 "
   ]
  },
  {
   "cell_type": "code",
   "execution_count": 19,
   "id": "4f3dfa23",
   "metadata": {},
   "outputs": [],
   "source": [
    "df2=df.sum(axis=1)"
   ]
  },
  {
   "cell_type": "code",
   "execution_count": 20,
   "id": "133310bc",
   "metadata": {},
   "outputs": [
    {
     "data": {
      "text/plain": [
       "0     3104030\n",
       "1     3153405\n",
       "2     3214648\n",
       "3     3258763\n",
       "4     3298404\n",
       "5     3328443\n",
       "6     3358179\n",
       "7     3387204\n",
       "8     3415810\n",
       "9     3423979\n",
       "10    3391214\n",
       "11    3452743\n",
       "dtype: int64"
      ]
     },
     "execution_count": 20,
     "metadata": {},
     "output_type": "execute_result"
    }
   ],
   "source": [
    "df2"
   ]
  },
  {
   "cell_type": "code",
   "execution_count": 21,
   "id": "a4fd03d6",
   "metadata": {},
   "outputs": [],
   "source": [
    "df['sum'] = df2"
   ]
  },
  {
   "cell_type": "code",
   "execution_count": 22,
   "id": "38f73211",
   "metadata": {},
   "outputs": [
    {
     "data": {
      "text/html": [
       "<div>\n",
       "<style scoped>\n",
       "    .dataframe tbody tr th:only-of-type {\n",
       "        vertical-align: middle;\n",
       "    }\n",
       "\n",
       "    .dataframe tbody tr th {\n",
       "        vertical-align: top;\n",
       "    }\n",
       "\n",
       "    .dataframe thead th {\n",
       "        text-align: right;\n",
       "    }\n",
       "</style>\n",
       "<table border=\"1\" class=\"dataframe\">\n",
       "  <thead>\n",
       "    <tr style=\"text-align: right;\">\n",
       "      <th></th>\n",
       "      <th>year</th>\n",
       "      <th>man(korean)</th>\n",
       "      <th>woman(korean)</th>\n",
       "      <th>man(foreigner)</th>\n",
       "      <th>woman(foreigner)</th>\n",
       "      <th>oldman</th>\n",
       "      <th>sum</th>\n",
       "    </tr>\n",
       "  </thead>\n",
       "  <tbody>\n",
       "    <tr>\n",
       "      <th>0</th>\n",
       "      <td>2011</td>\n",
       "      <td>1410980</td>\n",
       "      <td>1390294</td>\n",
       "      <td>30523</td>\n",
       "      <td>19694</td>\n",
       "      <td>250528</td>\n",
       "      <td>3104030</td>\n",
       "    </tr>\n",
       "    <tr>\n",
       "      <th>1</th>\n",
       "      <td>2012</td>\n",
       "      <td>1431593</td>\n",
       "      <td>1412388</td>\n",
       "      <td>28099</td>\n",
       "      <td>19206</td>\n",
       "      <td>260107</td>\n",
       "      <td>3153405</td>\n",
       "    </tr>\n",
       "    <tr>\n",
       "      <th>2</th>\n",
       "      <td>2013</td>\n",
       "      <td>1448835</td>\n",
       "      <td>1430947</td>\n",
       "      <td>30027</td>\n",
       "      <td>20355</td>\n",
       "      <td>282471</td>\n",
       "      <td>3214648</td>\n",
       "    </tr>\n",
       "    <tr>\n",
       "      <th>3</th>\n",
       "      <td>2014</td>\n",
       "      <td>1459074</td>\n",
       "      <td>1443534</td>\n",
       "      <td>33030</td>\n",
       "      <td>22293</td>\n",
       "      <td>298818</td>\n",
       "      <td>3258763</td>\n",
       "    </tr>\n",
       "    <tr>\n",
       "      <th>4</th>\n",
       "      <td>2015</td>\n",
       "      <td>1469869</td>\n",
       "      <td>1455946</td>\n",
       "      <td>33770</td>\n",
       "      <td>23899</td>\n",
       "      <td>312905</td>\n",
       "      <td>3298404</td>\n",
       "    </tr>\n",
       "    <tr>\n",
       "      <th>5</th>\n",
       "      <td>2016</td>\n",
       "      <td>1477671</td>\n",
       "      <td>1465398</td>\n",
       "      <td>34394</td>\n",
       "      <td>24709</td>\n",
       "      <td>324255</td>\n",
       "      <td>3328443</td>\n",
       "    </tr>\n",
       "    <tr>\n",
       "      <th>6</th>\n",
       "      <td>2017</td>\n",
       "      <td>1479597</td>\n",
       "      <td>1468945</td>\n",
       "      <td>36353</td>\n",
       "      <td>26243</td>\n",
       "      <td>345024</td>\n",
       "      <td>3358179</td>\n",
       "    </tr>\n",
       "    <tr>\n",
       "      <th>7</th>\n",
       "      <td>2018</td>\n",
       "      <td>1481844</td>\n",
       "      <td>1472798</td>\n",
       "      <td>39200</td>\n",
       "      <td>28669</td>\n",
       "      <td>362675</td>\n",
       "      <td>3387204</td>\n",
       "    </tr>\n",
       "    <tr>\n",
       "      <th>8</th>\n",
       "      <td>2019</td>\n",
       "      <td>1482249</td>\n",
       "      <td>1474777</td>\n",
       "      <td>41155</td>\n",
       "      <td>31104</td>\n",
       "      <td>384506</td>\n",
       "      <td>3415810</td>\n",
       "    </tr>\n",
       "    <tr>\n",
       "      <th>9</th>\n",
       "      <td>2020</td>\n",
       "      <td>1473943</td>\n",
       "      <td>1468885</td>\n",
       "      <td>38152</td>\n",
       "      <td>29496</td>\n",
       "      <td>411483</td>\n",
       "      <td>3423979</td>\n",
       "    </tr>\n",
       "    <tr>\n",
       "      <th>10</th>\n",
       "      <td>2021</td>\n",
       "      <td>1427672</td>\n",
       "      <td>1428993</td>\n",
       "      <td>54530</td>\n",
       "      <td>45849</td>\n",
       "      <td>432149</td>\n",
       "      <td>3391214</td>\n",
       "    </tr>\n",
       "    <tr>\n",
       "      <th>11</th>\n",
       "      <td>2022</td>\n",
       "      <td>1438975</td>\n",
       "      <td>1439949</td>\n",
       "      <td>60130</td>\n",
       "      <td>50071</td>\n",
       "      <td>461596</td>\n",
       "      <td>3452743</td>\n",
       "    </tr>\n",
       "  </tbody>\n",
       "</table>\n",
       "</div>"
      ],
      "text/plain": [
       "    year  man(korean)  woman(korean)  man(foreigner)  woman(foreigner)  \\\n",
       "0   2011      1410980        1390294           30523             19694   \n",
       "1   2012      1431593        1412388           28099             19206   \n",
       "2   2013      1448835        1430947           30027             20355   \n",
       "3   2014      1459074        1443534           33030             22293   \n",
       "4   2015      1469869        1455946           33770             23899   \n",
       "5   2016      1477671        1465398           34394             24709   \n",
       "6   2017      1479597        1468945           36353             26243   \n",
       "7   2018      1481844        1472798           39200             28669   \n",
       "8   2019      1482249        1474777           41155             31104   \n",
       "9   2020      1473943        1468885           38152             29496   \n",
       "10  2021      1427672        1428993           54530             45849   \n",
       "11  2022      1438975        1439949           60130             50071   \n",
       "\n",
       "    oldman      sum  \n",
       "0   250528  3104030  \n",
       "1   260107  3153405  \n",
       "2   282471  3214648  \n",
       "3   298818  3258763  \n",
       "4   312905  3298404  \n",
       "5   324255  3328443  \n",
       "6   345024  3358179  \n",
       "7   362675  3387204  \n",
       "8   384506  3415810  \n",
       "9   411483  3423979  \n",
       "10  432149  3391214  \n",
       "11  461596  3452743  "
      ]
     },
     "execution_count": 22,
     "metadata": {},
     "output_type": "execute_result"
    }
   ],
   "source": [
    "df"
   ]
  },
  {
   "cell_type": "code",
   "execution_count": 23,
   "id": "ed9b2987",
   "metadata": {},
   "outputs": [
    {
     "data": {
      "image/png": "[encoded data removed]",
      "text/plain": [
       "<Figure size 640x480 with 1 Axes>"
      ]
     },
     "metadata": {},
     "output_type": "display_data"
    }
   ],
   "source": [
    "plt.scatter(data = df, x= 'sum', y= 'oldman')\n",
    "plt.title('Population Vs Oldman')\n",
    "plt.xlabel('Population Total')\n",
    "plt.ylabel('Oldman')\n",
    "plt.show()"
   ]
  },
  {
   "cell_type": "code",
   "execution_count": 24,
   "id": "f3ae5ef1",
   "metadata": {},
   "outputs": [],
   "source": [
    "from sklearn.model_selection import train_test_split"
   ]
  },
  {
   "cell_type": "code",
   "execution_count": 25,
   "id": "be784081",
   "metadata": {},
   "outputs": [],
   "source": [
    "X = df.loc[ : , 'man(korean)' : 'woman(foreigner)'  ]  "
   ]
  },
  {
   "cell_type": "code",
   "execution_count": 28,
   "id": "0824bf23",
   "metadata": {},
   "outputs": [
    {
     "data": {
      "text/html": [
       "<div>\n",
       "<style scoped>\n",
       "    .dataframe tbody tr th:only-of-type {\n",
       "        vertical-align: middle;\n",
       "    }\n",
       "\n",
       "    .dataframe tbody tr th {\n",
       "        vertical-align: top;\n",
       "    }\n",
       "\n",
       "    .dataframe thead th {\n",
       "        text-align: right;\n",
       "    }\n",
       "</style>\n",
       "<table border=\"1\" class=\"dataframe\">\n",
       "  <thead>\n",
       "    <tr style=\"text-align: right;\">\n",
       "      <th></th>\n",
       "      <th>man(korean)</th>\n",
       "      <th>woman(korean)</th>\n",
       "      <th>man(foreigner)</th>\n",
       "      <th>woman(foreigner)</th>\n",
       "    </tr>\n",
       "  </thead>\n",
       "  <tbody>\n",
       "    <tr>\n",
       "      <th>0</th>\n",
       "      <td>1410980</td>\n",
       "      <td>1390294</td>\n",
       "      <td>30523</td>\n",
       "      <td>19694</td>\n",
       "    </tr>\n",
       "    <tr>\n",
       "      <th>1</th>\n",
       "      <td>1431593</td>\n",
       "      <td>1412388</td>\n",
       "      <td>28099</td>\n",
       "      <td>19206</td>\n",
       "    </tr>\n",
       "    <tr>\n",
       "      <th>2</th>\n",
       "      <td>1448835</td>\n",
       "      <td>1430947</td>\n",
       "      <td>30027</td>\n",
       "      <td>20355</td>\n",
       "    </tr>\n",
       "    <tr>\n",
       "      <th>3</th>\n",
       "      <td>1459074</td>\n",
       "      <td>1443534</td>\n",
       "      <td>33030</td>\n",
       "      <td>22293</td>\n",
       "    </tr>\n",
       "    <tr>\n",
       "      <th>4</th>\n",
       "      <td>1469869</td>\n",
       "      <td>1455946</td>\n",
       "      <td>33770</td>\n",
       "      <td>23899</td>\n",
       "    </tr>\n",
       "    <tr>\n",
       "      <th>5</th>\n",
       "      <td>1477671</td>\n",
       "      <td>1465398</td>\n",
       "      <td>34394</td>\n",
       "      <td>24709</td>\n",
       "    </tr>\n",
       "    <tr>\n",
       "      <th>6</th>\n",
       "      <td>1479597</td>\n",
       "      <td>1468945</td>\n",
       "      <td>36353</td>\n",
       "      <td>26243</td>\n",
       "    </tr>\n",
       "    <tr>\n",
       "      <th>7</th>\n",
       "      <td>1481844</td>\n",
       "      <td>1472798</td>\n",
       "      <td>39200</td>\n",
       "      <td>28669</td>\n",
       "    </tr>\n",
       "    <tr>\n",
       "      <th>8</th>\n",
       "      <td>1482249</td>\n",
       "      <td>1474777</td>\n",
       "      <td>41155</td>\n",
       "      <td>31104</td>\n",
       "    </tr>\n",
       "    <tr>\n",
       "      <th>9</th>\n",
       "      <td>1473943</td>\n",
       "      <td>1468885</td>\n",
       "      <td>38152</td>\n",
       "      <td>29496</td>\n",
       "    </tr>\n",
       "    <tr>\n",
       "      <th>10</th>\n",
       "      <td>1427672</td>\n",
       "      <td>1428993</td>\n",
       "      <td>54530</td>\n",
       "      <td>45849</td>\n",
       "    </tr>\n",
       "    <tr>\n",
       "      <th>11</th>\n",
       "      <td>1438975</td>\n",
       "      <td>1439949</td>\n",
       "      <td>60130</td>\n",
       "      <td>50071</td>\n",
       "    </tr>\n",
       "  </tbody>\n",
       "</table>\n",
       "</div>"
      ],
      "text/plain": [
       "    man(korean)  woman(korean)  man(foreigner)  woman(foreigner)\n",
       "0       1410980        1390294           30523             19694\n",
       "1       1431593        1412388           28099             19206\n",
       "2       1448835        1430947           30027             20355\n",
       "3       1459074        1443534           33030             22293\n",
       "4       1469869        1455946           33770             23899\n",
       "5       1477671        1465398           34394             24709\n",
       "6       1479597        1468945           36353             26243\n",
       "7       1481844        1472798           39200             28669\n",
       "8       1482249        1474777           41155             31104\n",
       "9       1473943        1468885           38152             29496\n",
       "10      1427672        1428993           54530             45849\n",
       "11      1438975        1439949           60130             50071"
      ]
     },
     "execution_count": 28,
     "metadata": {},
     "output_type": "execute_result"
    }
   ],
   "source": [
    "X"
   ]
  },
  {
   "cell_type": "code",
   "execution_count": 185,
   "id": "f5a5c045",
   "metadata": {},
   "outputs": [],
   "source": [
    "y = df['oldman']"
   ]
  },
  {
   "cell_type": "code",
   "execution_count": 186,
   "id": "f353e00b",
   "metadata": {},
   "outputs": [
    {
     "data": {
      "text/plain": [
       "0     250528\n",
       "1     260107\n",
       "2     282471\n",
       "3     298818\n",
       "4     312905\n",
       "5     324255\n",
       "6     345024\n",
       "7     362675\n",
       "8     384506\n",
       "9     411483\n",
       "10    432149\n",
       "11    461596\n",
       "Name: oldman, dtype: int64"
      ]
     },
     "execution_count": 186,
     "metadata": {},
     "output_type": "execute_result"
    }
   ],
   "source": [
    "y"
   ]
  },
  {
   "cell_type": "code",
   "execution_count": 187,
   "id": "cf036648",
   "metadata": {},
   "outputs": [],
   "source": [
    "# Scikit-Learn 의 LinearRegression 은, 자동으로 피쳐 스케일링을 해준다."
   ]
  },
  {
   "cell_type": "code",
   "execution_count": 188,
   "id": "bd0a69a8",
   "metadata": {},
   "outputs": [],
   "source": [
    "# Train / Test 로 나누기"
   ]
  },
  {
   "cell_type": "code",
   "execution_count": 189,
   "id": "6aa462fc",
   "metadata": {},
   "outputs": [],
   "source": [
    "X_train, X_test, y_train, y_test = train_test_split(X, y, test_size= 0.2,  random_state= 2021)"
   ]
  },
  {
   "cell_type": "code",
   "execution_count": 190,
   "id": "379c6166",
   "metadata": {},
   "outputs": [],
   "source": [
    "from sklearn.linear_model import LinearRegression"
   ]
  },
  {
   "cell_type": "code",
   "execution_count": 191,
   "id": "204b2682",
   "metadata": {},
   "outputs": [],
   "source": [
    "regressor = LinearRegression() #선형회계 "
   ]
  },
  {
   "cell_type": "code",
   "execution_count": 192,
   "id": "f10bea59",
   "metadata": {},
   "outputs": [],
   "source": [
    "#학습"
   ]
  },
  {
   "cell_type": "code",
   "execution_count": 193,
   "id": "98dac2b5",
   "metadata": {},
   "outputs": [
    {
     "data": {
      "text/html": [
       "<style>#sk-container-id-9 {color: black;}#sk-container-id-9 pre{padding: 0;}#sk-container-id-9 div.sk-toggleable {background-color: white;}#sk-container-id-9 label.sk-toggleable__label {cursor: pointer;display: block;width: 100%;margin-bottom: 0;padding: 0.3em;box-sizing: border-box;text-align: center;}#sk-container-id-9 label.sk-toggleable__label-arrow:before {content: \"▸\";float: left;margin-right: 0.25em;color: #696969;}#sk-container-id-9 label.sk-toggleable__label-arrow:hover:before {color: black;}#sk-container-id-9 div.sk-estimator:hover label.sk-toggleable__label-arrow:before {color: black;}#sk-container-id-9 div.sk-toggleable__content {max-height: 0;max-width: 0;overflow: hidden;text-align: left;background-color: #f0f8ff;}#sk-container-id-9 div.sk-toggleable__content pre {margin: 0.2em;color: black;border-radius: 0.25em;background-color: #f0f8ff;}#sk-container-id-9 input.sk-toggleable__control:checked~div.sk-toggleable__content {max-height: 200px;max-width: 100%;overflow: auto;}#sk-container-id-9 input.sk-toggleable__control:checked~label.sk-toggleable__label-arrow:before {content: \"▾\";}#sk-container-id-9 div.sk-estimator input.sk-toggleable__control:checked~label.sk-toggleable__label {background-color: #d4ebff;}#sk-container-id-9 div.sk-label input.sk-toggleable__control:checked~label.sk-toggleable__label {background-color: #d4ebff;}#sk-container-id-9 input.sk-hidden--visually {border: 0;clip: rect(1px 1px 1px 1px);clip: rect(1px, 1px, 1px, 1px);height: 1px;margin: -1px;overflow: hidden;padding: 0;position: absolute;width: 1px;}#sk-container-id-9 div.sk-estimator {font-family: monospace;background-color: #f0f8ff;border: 1px dotted black;border-radius: 0.25em;box-sizing: border-box;margin-bottom: 0.5em;}#sk-container-id-9 div.sk-estimator:hover {background-color: #d4ebff;}#sk-container-id-9 div.sk-parallel-item::after {content: \"\";width: 100%;border-bottom: 1px solid gray;flex-grow: 1;}#sk-container-id-9 div.sk-label:hover label.sk-toggleable__label {background-color: #d4ebff;}#sk-container-id-9 div.sk-serial::before {content: \"\";position: absolute;border-left: 1px solid gray;box-sizing: border-box;top: 0;bottom: 0;left: 50%;z-index: 0;}#sk-container-id-9 div.sk-serial {display: flex;flex-direction: column;align-items: center;background-color: white;padding-right: 0.2em;padding-left: 0.2em;position: relative;}#sk-container-id-9 div.sk-item {position: relative;z-index: 1;}#sk-container-id-9 div.sk-parallel {display: flex;align-items: stretch;justify-content: center;background-color: white;position: relative;}#sk-container-id-9 div.sk-item::before, #sk-container-id-9 div.sk-parallel-item::before {content: \"\";position: absolute;border-left: 1px solid gray;box-sizing: border-box;top: 0;bottom: 0;left: 50%;z-index: -1;}#sk-container-id-9 div.sk-parallel-item {display: flex;flex-direction: column;z-index: 1;position: relative;background-color: white;}#sk-container-id-9 div.sk-parallel-item:first-child::after {align-self: flex-end;width: 50%;}#sk-container-id-9 div.sk-parallel-item:last-child::after {align-self: flex-start;width: 50%;}#sk-container-id-9 div.sk-parallel-item:only-child::after {width: 0;}#sk-container-id-9 div.sk-dashed-wrapped {border: 1px dashed gray;margin: 0 0.4em 0.5em 0.4em;box-sizing: border-box;padding-bottom: 0.4em;background-color: white;}#sk-container-id-9 div.sk-label label {font-family: monospace;font-weight: bold;display: inline-block;line-height: 1.2em;}#sk-container-id-9 div.sk-label-container {text-align: center;}#sk-container-id-9 div.sk-container {/* jupyter's `normalize.less` sets `[hidden] { display: none; }` but bootstrap.min.css set `[hidden] { display: none !important; }` so we also need the `!important` here to be able to override the default hidden behavior on the sphinx rendered scikit-learn.org. See: https://github.com/scikit-learn/scikit-learn/issues/21755 */display: inline-block !important;position: relative;}#sk-container-id-9 div.sk-text-repr-fallback {display: none;}</style><div id=\"sk-container-id-9\" class=\"sk-top-container\"><div class=\"sk-text-repr-fallback\"><pre>LinearRegression()</pre><b>In a Jupyter environment, please rerun this cell to show the HTML representation or trust the notebook. <br />On GitHub, the HTML representation is unable to render, please try loading this page with nbviewer.org.</b></div><div class=\"sk-container\" hidden><div class=\"sk-item\"><div class=\"sk-estimator sk-toggleable\"><input class=\"sk-toggleable__control sk-hidden--visually\" id=\"sk-estimator-id-9\" type=\"checkbox\" checked><label for=\"sk-estimator-id-9\" class=\"sk-toggleable__label sk-toggleable__label-arrow\">LinearRegression</label><div class=\"sk-toggleable__content\"><pre>LinearRegression()</pre></div></div></div></div></div>"
      ],
      "text/plain": [
       "LinearRegression()"
      ]
     },
     "execution_count": 193,
     "metadata": {},
     "output_type": "execute_result"
    }
   ],
   "source": [
    "regressor.fit(X_train,y_train)"
   ]
  },
  {
   "cell_type": "code",
   "execution_count": 194,
   "id": "61002a2b",
   "metadata": {},
   "outputs": [
    {
     "data": {
      "text/html": [
       "<div>\n",
       "<style scoped>\n",
       "    .dataframe tbody tr th:only-of-type {\n",
       "        vertical-align: middle;\n",
       "    }\n",
       "\n",
       "    .dataframe tbody tr th {\n",
       "        vertical-align: top;\n",
       "    }\n",
       "\n",
       "    .dataframe thead th {\n",
       "        text-align: right;\n",
       "    }\n",
       "</style>\n",
       "<table border=\"1\" class=\"dataframe\">\n",
       "  <thead>\n",
       "    <tr style=\"text-align: right;\">\n",
       "      <th></th>\n",
       "      <th>man(korean)</th>\n",
       "      <th>woman(korean)</th>\n",
       "      <th>man(foreigner)</th>\n",
       "      <th>woman(foreigner)</th>\n",
       "    </tr>\n",
       "  </thead>\n",
       "  <tbody>\n",
       "    <tr>\n",
       "      <th>1</th>\n",
       "      <td>1431593</td>\n",
       "      <td>1412388</td>\n",
       "      <td>28099</td>\n",
       "      <td>19206</td>\n",
       "    </tr>\n",
       "    <tr>\n",
       "      <th>3</th>\n",
       "      <td>1459074</td>\n",
       "      <td>1443534</td>\n",
       "      <td>33030</td>\n",
       "      <td>22293</td>\n",
       "    </tr>\n",
       "    <tr>\n",
       "      <th>11</th>\n",
       "      <td>1438975</td>\n",
       "      <td>1439949</td>\n",
       "      <td>60130</td>\n",
       "      <td>50071</td>\n",
       "    </tr>\n",
       "    <tr>\n",
       "      <th>6</th>\n",
       "      <td>1479597</td>\n",
       "      <td>1468945</td>\n",
       "      <td>36353</td>\n",
       "      <td>26243</td>\n",
       "    </tr>\n",
       "    <tr>\n",
       "      <th>10</th>\n",
       "      <td>1427672</td>\n",
       "      <td>1428993</td>\n",
       "      <td>54530</td>\n",
       "      <td>45849</td>\n",
       "    </tr>\n",
       "    <tr>\n",
       "      <th>0</th>\n",
       "      <td>1410980</td>\n",
       "      <td>1390294</td>\n",
       "      <td>30523</td>\n",
       "      <td>19694</td>\n",
       "    </tr>\n",
       "    <tr>\n",
       "      <th>9</th>\n",
       "      <td>1473943</td>\n",
       "      <td>1468885</td>\n",
       "      <td>38152</td>\n",
       "      <td>29496</td>\n",
       "    </tr>\n",
       "    <tr>\n",
       "      <th>5</th>\n",
       "      <td>1477671</td>\n",
       "      <td>1465398</td>\n",
       "      <td>34394</td>\n",
       "      <td>24709</td>\n",
       "    </tr>\n",
       "    <tr>\n",
       "      <th>4</th>\n",
       "      <td>1469869</td>\n",
       "      <td>1455946</td>\n",
       "      <td>33770</td>\n",
       "      <td>23899</td>\n",
       "    </tr>\n",
       "  </tbody>\n",
       "</table>\n",
       "</div>"
      ],
      "text/plain": [
       "    man(korean)  woman(korean)  man(foreigner)  woman(foreigner)\n",
       "1       1431593        1412388           28099             19206\n",
       "3       1459074        1443534           33030             22293\n",
       "11      1438975        1439949           60130             50071\n",
       "6       1479597        1468945           36353             26243\n",
       "10      1427672        1428993           54530             45849\n",
       "0       1410980        1390294           30523             19694\n",
       "9       1473943        1468885           38152             29496\n",
       "5       1477671        1465398           34394             24709\n",
       "4       1469869        1455946           33770             23899"
      ]
     },
     "execution_count": 194,
     "metadata": {},
     "output_type": "execute_result"
    }
   ],
   "source": [
    "X_train"
   ]
  },
  {
   "cell_type": "code",
   "execution_count": 195,
   "id": "2e4a9adc",
   "metadata": {},
   "outputs": [
    {
     "data": {
      "text/html": [
       "<div>\n",
       "<style scoped>\n",
       "    .dataframe tbody tr th:only-of-type {\n",
       "        vertical-align: middle;\n",
       "    }\n",
       "\n",
       "    .dataframe tbody tr th {\n",
       "        vertical-align: top;\n",
       "    }\n",
       "\n",
       "    .dataframe thead th {\n",
       "        text-align: right;\n",
       "    }\n",
       "</style>\n",
       "<table border=\"1\" class=\"dataframe\">\n",
       "  <thead>\n",
       "    <tr style=\"text-align: right;\">\n",
       "      <th></th>\n",
       "      <th>man(korean)</th>\n",
       "      <th>woman(korean)</th>\n",
       "      <th>man(foreigner)</th>\n",
       "      <th>woman(foreigner)</th>\n",
       "    </tr>\n",
       "  </thead>\n",
       "  <tbody>\n",
       "    <tr>\n",
       "      <th>1</th>\n",
       "      <td>1431593</td>\n",
       "      <td>1412388</td>\n",
       "      <td>28099</td>\n",
       "      <td>19206</td>\n",
       "    </tr>\n",
       "    <tr>\n",
       "      <th>3</th>\n",
       "      <td>1459074</td>\n",
       "      <td>1443534</td>\n",
       "      <td>33030</td>\n",
       "      <td>22293</td>\n",
       "    </tr>\n",
       "    <tr>\n",
       "      <th>11</th>\n",
       "      <td>1438975</td>\n",
       "      <td>1439949</td>\n",
       "      <td>60130</td>\n",
       "      <td>50071</td>\n",
       "    </tr>\n",
       "    <tr>\n",
       "      <th>6</th>\n",
       "      <td>1479597</td>\n",
       "      <td>1468945</td>\n",
       "      <td>36353</td>\n",
       "      <td>26243</td>\n",
       "    </tr>\n",
       "    <tr>\n",
       "      <th>10</th>\n",
       "      <td>1427672</td>\n",
       "      <td>1428993</td>\n",
       "      <td>54530</td>\n",
       "      <td>45849</td>\n",
       "    </tr>\n",
       "  </tbody>\n",
       "</table>\n",
       "</div>"
      ],
      "text/plain": [
       "    man(korean)  woman(korean)  man(foreigner)  woman(foreigner)\n",
       "1       1431593        1412388           28099             19206\n",
       "3       1459074        1443534           33030             22293\n",
       "11      1438975        1439949           60130             50071\n",
       "6       1479597        1468945           36353             26243\n",
       "10      1427672        1428993           54530             45849"
      ]
     },
     "execution_count": 195,
     "metadata": {},
     "output_type": "execute_result"
    }
   ],
   "source": [
    "X_train.head(5)"
   ]
  },
  {
   "cell_type": "code",
   "execution_count": 196,
   "id": "b1f5ccef",
   "metadata": {},
   "outputs": [
    {
     "data": {
      "text/html": [
       "<div>\n",
       "<style scoped>\n",
       "    .dataframe tbody tr th:only-of-type {\n",
       "        vertical-align: middle;\n",
       "    }\n",
       "\n",
       "    .dataframe tbody tr th {\n",
       "        vertical-align: top;\n",
       "    }\n",
       "\n",
       "    .dataframe thead th {\n",
       "        text-align: right;\n",
       "    }\n",
       "</style>\n",
       "<table border=\"1\" class=\"dataframe\">\n",
       "  <thead>\n",
       "    <tr style=\"text-align: right;\">\n",
       "      <th></th>\n",
       "      <th>man(korean)</th>\n",
       "      <th>woman(korean)</th>\n",
       "      <th>man(foreigner)</th>\n",
       "      <th>woman(foreigner)</th>\n",
       "    </tr>\n",
       "  </thead>\n",
       "  <tbody>\n",
       "    <tr>\n",
       "      <th>8</th>\n",
       "      <td>1482249</td>\n",
       "      <td>1474777</td>\n",
       "      <td>41155</td>\n",
       "      <td>31104</td>\n",
       "    </tr>\n",
       "    <tr>\n",
       "      <th>2</th>\n",
       "      <td>1448835</td>\n",
       "      <td>1430947</td>\n",
       "      <td>30027</td>\n",
       "      <td>20355</td>\n",
       "    </tr>\n",
       "    <tr>\n",
       "      <th>7</th>\n",
       "      <td>1481844</td>\n",
       "      <td>1472798</td>\n",
       "      <td>39200</td>\n",
       "      <td>28669</td>\n",
       "    </tr>\n",
       "  </tbody>\n",
       "</table>\n",
       "</div>"
      ],
      "text/plain": [
       "   man(korean)  woman(korean)  man(foreigner)  woman(foreigner)\n",
       "8      1482249        1474777           41155             31104\n",
       "2      1448835        1430947           30027             20355\n",
       "7      1481844        1472798           39200             28669"
      ]
     },
     "execution_count": 196,
     "metadata": {},
     "output_type": "execute_result"
    }
   ],
   "source": [
    "X_test.head(5)"
   ]
  },
  {
   "cell_type": "code",
   "execution_count": 197,
   "id": "7368d8a1",
   "metadata": {},
   "outputs": [
    {
     "data": {
      "text/html": [
       "<div>\n",
       "<style scoped>\n",
       "    .dataframe tbody tr th:only-of-type {\n",
       "        vertical-align: middle;\n",
       "    }\n",
       "\n",
       "    .dataframe tbody tr th {\n",
       "        vertical-align: top;\n",
       "    }\n",
       "\n",
       "    .dataframe thead th {\n",
       "        text-align: right;\n",
       "    }\n",
       "</style>\n",
       "<table border=\"1\" class=\"dataframe\">\n",
       "  <thead>\n",
       "    <tr style=\"text-align: right;\">\n",
       "      <th></th>\n",
       "      <th>man(korean)</th>\n",
       "      <th>woman(korean)</th>\n",
       "      <th>man(foreigner)</th>\n",
       "      <th>woman(foreigner)</th>\n",
       "    </tr>\n",
       "  </thead>\n",
       "  <tbody>\n",
       "    <tr>\n",
       "      <th>8</th>\n",
       "      <td>1482249</td>\n",
       "      <td>1474777</td>\n",
       "      <td>41155</td>\n",
       "      <td>31104</td>\n",
       "    </tr>\n",
       "    <tr>\n",
       "      <th>2</th>\n",
       "      <td>1448835</td>\n",
       "      <td>1430947</td>\n",
       "      <td>30027</td>\n",
       "      <td>20355</td>\n",
       "    </tr>\n",
       "    <tr>\n",
       "      <th>7</th>\n",
       "      <td>1481844</td>\n",
       "      <td>1472798</td>\n",
       "      <td>39200</td>\n",
       "      <td>28669</td>\n",
       "    </tr>\n",
       "  </tbody>\n",
       "</table>\n",
       "</div>"
      ],
      "text/plain": [
       "   man(korean)  woman(korean)  man(foreigner)  woman(foreigner)\n",
       "8      1482249        1474777           41155             31104\n",
       "2      1448835        1430947           30027             20355\n",
       "7      1481844        1472798           39200             28669"
      ]
     },
     "execution_count": 197,
     "metadata": {},
     "output_type": "execute_result"
    }
   ],
   "source": [
    "X_test"
   ]
  },
  {
   "cell_type": "code",
   "execution_count": 198,
   "id": "a7a7de19",
   "metadata": {},
   "outputs": [],
   "source": [
    "y_pred = regressor.predict(X_test) #테스트 값을 넣고 예측."
   ]
  },
  {
   "cell_type": "code",
   "execution_count": 199,
   "id": "799e9e38",
   "metadata": {},
   "outputs": [
    {
     "data": {
      "text/plain": [
       "array([378541.87007136, 273866.54480982, 366161.31234937])"
      ]
     },
     "execution_count": 199,
     "metadata": {},
     "output_type": "execute_result"
    }
   ],
   "source": [
    "y_pred"
   ]
  },
  {
   "cell_type": "code",
   "execution_count": 200,
   "id": "f8b591c9",
   "metadata": {},
   "outputs": [
    {
     "data": {
      "text/plain": [
       "40587289.57434393"
      ]
     },
     "execution_count": 200,
     "metadata": {},
     "output_type": "execute_result"
    }
   ],
   "source": [
    "((y_test - y_pred) ** 2 ).mean()"
   ]
  },
  {
   "cell_type": "code",
   "execution_count": 201,
   "id": "777e56e6",
   "metadata": {},
   "outputs": [
    {
     "data": {
      "text/plain": [
       "8    384506\n",
       "2    282471\n",
       "7    362675\n",
       "Name: oldman, dtype: int64"
      ]
     },
     "execution_count": 201,
     "metadata": {},
     "output_type": "execute_result"
    }
   ],
   "source": [
    "y_test"
   ]
  },
  {
   "cell_type": "code",
   "execution_count": 202,
   "id": "c7eeb8fb-9e62-45fc-8686-b071e81e282e",
   "metadata": {},
   "outputs": [],
   "source": [
    "from sklearn.metrics import mean_absolute_percentage_error"
   ]
  },
  {
   "cell_type": "code",
   "execution_count": 210,
   "id": "c5803683",
   "metadata": {},
   "outputs": [
    {
     "data": {
      "text/html": [
       "<div>\n",
       "<style scoped>\n",
       "    .dataframe tbody tr th:only-of-type {\n",
       "        vertical-align: middle;\n",
       "    }\n",
       "\n",
       "    .dataframe tbody tr th {\n",
       "        vertical-align: top;\n",
       "    }\n",
       "\n",
       "    .dataframe thead th {\n",
       "        text-align: right;\n",
       "    }\n",
       "</style>\n",
       "<table border=\"1\" class=\"dataframe\">\n",
       "  <thead>\n",
       "    <tr style=\"text-align: right;\">\n",
       "      <th></th>\n",
       "      <th>year</th>\n",
       "      <th>man(korean)</th>\n",
       "      <th>woman(korean)</th>\n",
       "      <th>man(foreigner)</th>\n",
       "      <th>woman(foreigner)</th>\n",
       "      <th>oldman</th>\n",
       "      <th>sum</th>\n",
       "    </tr>\n",
       "  </thead>\n",
       "  <tbody>\n",
       "    <tr>\n",
       "      <th>0</th>\n",
       "      <td>2011</td>\n",
       "      <td>1410980</td>\n",
       "      <td>1390294</td>\n",
       "      <td>30523</td>\n",
       "      <td>19694</td>\n",
       "      <td>250528</td>\n",
       "      <td>3104030</td>\n",
       "    </tr>\n",
       "    <tr>\n",
       "      <th>1</th>\n",
       "      <td>2012</td>\n",
       "      <td>1431593</td>\n",
       "      <td>1412388</td>\n",
       "      <td>28099</td>\n",
       "      <td>19206</td>\n",
       "      <td>260107</td>\n",
       "      <td>3153405</td>\n",
       "    </tr>\n",
       "    <tr>\n",
       "      <th>2</th>\n",
       "      <td>2013</td>\n",
       "      <td>1448835</td>\n",
       "      <td>1430947</td>\n",
       "      <td>30027</td>\n",
       "      <td>20355</td>\n",
       "      <td>282471</td>\n",
       "      <td>3214648</td>\n",
       "    </tr>\n",
       "    <tr>\n",
       "      <th>3</th>\n",
       "      <td>2014</td>\n",
       "      <td>1459074</td>\n",
       "      <td>1443534</td>\n",
       "      <td>33030</td>\n",
       "      <td>22293</td>\n",
       "      <td>298818</td>\n",
       "      <td>3258763</td>\n",
       "    </tr>\n",
       "    <tr>\n",
       "      <th>4</th>\n",
       "      <td>2015</td>\n",
       "      <td>1469869</td>\n",
       "      <td>1455946</td>\n",
       "      <td>33770</td>\n",
       "      <td>23899</td>\n",
       "      <td>312905</td>\n",
       "      <td>3298404</td>\n",
       "    </tr>\n",
       "    <tr>\n",
       "      <th>5</th>\n",
       "      <td>2016</td>\n",
       "      <td>1477671</td>\n",
       "      <td>1465398</td>\n",
       "      <td>34394</td>\n",
       "      <td>24709</td>\n",
       "      <td>324255</td>\n",
       "      <td>3328443</td>\n",
       "    </tr>\n",
       "    <tr>\n",
       "      <th>6</th>\n",
       "      <td>2017</td>\n",
       "      <td>1479597</td>\n",
       "      <td>1468945</td>\n",
       "      <td>36353</td>\n",
       "      <td>26243</td>\n",
       "      <td>345024</td>\n",
       "      <td>3358179</td>\n",
       "    </tr>\n",
       "    <tr>\n",
       "      <th>7</th>\n",
       "      <td>2018</td>\n",
       "      <td>1481844</td>\n",
       "      <td>1472798</td>\n",
       "      <td>39200</td>\n",
       "      <td>28669</td>\n",
       "      <td>362675</td>\n",
       "      <td>3387204</td>\n",
       "    </tr>\n",
       "    <tr>\n",
       "      <th>8</th>\n",
       "      <td>2019</td>\n",
       "      <td>1482249</td>\n",
       "      <td>1474777</td>\n",
       "      <td>41155</td>\n",
       "      <td>31104</td>\n",
       "      <td>384506</td>\n",
       "      <td>3415810</td>\n",
       "    </tr>\n",
       "    <tr>\n",
       "      <th>9</th>\n",
       "      <td>2020</td>\n",
       "      <td>1473943</td>\n",
       "      <td>1468885</td>\n",
       "      <td>38152</td>\n",
       "      <td>29496</td>\n",
       "      <td>411483</td>\n",
       "      <td>3423979</td>\n",
       "    </tr>\n",
       "    <tr>\n",
       "      <th>10</th>\n",
       "      <td>2021</td>\n",
       "      <td>1427672</td>\n",
       "      <td>1428993</td>\n",
       "      <td>54530</td>\n",
       "      <td>45849</td>\n",
       "      <td>432149</td>\n",
       "      <td>3391214</td>\n",
       "    </tr>\n",
       "    <tr>\n",
       "      <th>11</th>\n",
       "      <td>2022</td>\n",
       "      <td>1438975</td>\n",
       "      <td>1439949</td>\n",
       "      <td>60130</td>\n",
       "      <td>50071</td>\n",
       "      <td>461596</td>\n",
       "      <td>3452743</td>\n",
       "    </tr>\n",
       "  </tbody>\n",
       "</table>\n",
       "</div>"
      ],
      "text/plain": [
       "    year  man(korean)  woman(korean)  man(foreigner)  woman(foreigner)  \\\n",
       "0   2011      1410980        1390294           30523             19694   \n",
       "1   2012      1431593        1412388           28099             19206   \n",
       "2   2013      1448835        1430947           30027             20355   \n",
       "3   2014      1459074        1443534           33030             22293   \n",
       "4   2015      1469869        1455946           33770             23899   \n",
       "5   2016      1477671        1465398           34394             24709   \n",
       "6   2017      1479597        1468945           36353             26243   \n",
       "7   2018      1481844        1472798           39200             28669   \n",
       "8   2019      1482249        1474777           41155             31104   \n",
       "9   2020      1473943        1468885           38152             29496   \n",
       "10  2021      1427672        1428993           54530             45849   \n",
       "11  2022      1438975        1439949           60130             50071   \n",
       "\n",
       "    oldman      sum  \n",
       "0   250528  3104030  \n",
       "1   260107  3153405  \n",
       "2   282471  3214648  \n",
       "3   298818  3258763  \n",
       "4   312905  3298404  \n",
       "5   324255  3328443  \n",
       "6   345024  3358179  \n",
       "7   362675  3387204  \n",
       "8   384506  3415810  \n",
       "9   411483  3423979  \n",
       "10  432149  3391214  \n",
       "11  461596  3452743  "
      ]
     },
     "execution_count": 210,
     "metadata": {},
     "output_type": "execute_result"
    }
   ],
   "source": [
    "df"
   ]
  },
  {
   "cell_type": "code",
   "execution_count": 232,
   "id": "4c160abb",
   "metadata": {},
   "outputs": [],
   "source": [
    "new_data = np.array( [1459074,1443534,33030,22293] )"
   ]
  },
  {
   "cell_type": "code",
   "execution_count": 233,
   "id": "b87b29e9",
   "metadata": {},
   "outputs": [
    {
     "data": {
      "text/plain": [
       "array([1459074, 1443534,   33030,   22293])"
      ]
     },
     "execution_count": 233,
     "metadata": {},
     "output_type": "execute_result"
    }
   ],
   "source": [
    "new_data"
   ]
  },
  {
   "cell_type": "code",
   "execution_count": 234,
   "id": "66426c7f",
   "metadata": {},
   "outputs": [],
   "source": [
    "new_data = new_data.reshape(1,4)"
   ]
  },
  {
   "cell_type": "code",
   "execution_count": 235,
   "id": "6fdac43e",
   "metadata": {},
   "outputs": [
    {
     "data": {
      "text/plain": [
       "2"
      ]
     },
     "execution_count": 235,
     "metadata": {},
     "output_type": "execute_result"
    }
   ],
   "source": [
    "new_data.ndim"
   ]
  },
  {
   "cell_type": "code",
   "execution_count": 230,
   "id": "aaef3d77",
   "metadata": {},
   "outputs": [
    {
     "name": "stderr",
     "output_type": "stream",
     "text": [
      "C:\\ProgramData\\anaconda3\\Lib\\site-packages\\sklearn\\base.py:464: UserWarning: X does not have valid feature names, but LinearRegression was fitted with feature names\n",
      "  warnings.warn(\n"
     ]
    },
    {
     "data": {
      "text/plain": [
       "array([302600.14380393])"
      ]
     },
     "execution_count": 230,
     "metadata": {},
     "output_type": "execute_result"
    }
   ],
   "source": [
    "regressor.predict(new_data) ## 예측"
   ]
  },
  {
   "cell_type": "code",
   "execution_count": null,
   "id": "0b9d1bd4",
   "metadata": {},
   "outputs": [],
   "source": [
    "import joblib"
   ]
  },
  {
   "cell_type": "code",
   "execution_count": null,
   "id": "f5952577",
   "metadata": {},
   "outputs": [],
   "source": [
    "joblib.dump(regressor,'regressor.pkl')"
   ]
  },
  {
   "cell_type": "code",
   "execution_count": null,
   "id": "d9bf66d7",
   "metadata": {},
   "outputs": [],
   "source": []
  },
  {
   "cell_type": "code",
   "execution_count": null,
   "id": "8b890db8",
   "metadata": {},
   "outputs": [],
   "source": []
  },
  {
   "cell_type": "code",
   "execution_count": null,
   "id": "095fce26",
   "metadata": {},
   "outputs": [],
   "source": []
  }
 ],
 "metadata": {
  "kernelspec": {
   "display_name": "Python 3 (ipykernel)",
   "language": "python",
   "name": "python3"
  },
  "language_info": {
   "codemirror_mode": {
    "name": "ipython",
    "version": 3
   },
   "file_extension": ".py",
   "mimetype": "text/x-python",
   "name": "python",
   "nbconvert_exporter": "python",
   "pygments_lexer": "ipython3",
   "version": "3.11.4"
  }
 },
 "nbformat": 4,
 "nbformat_minor": 5
}
