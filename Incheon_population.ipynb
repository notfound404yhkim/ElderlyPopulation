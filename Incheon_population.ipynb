{
 "cells": [
  {
   "cell_type": "code",
   "execution_count": 2,
   "id": "e6a9038f",
   "metadata": {},
   "outputs": [],
   "source": [
    "import pandas as pd\n",
    "import numpy as np\n",
    "import matplotlib.pyplot as plt\n",
    "import seaborn as sb "
   ]
  },
  {
   "cell_type": "code",
   "execution_count": 3,
   "id": "0f3cbb2d",
   "metadata": {},
   "outputs": [],
   "source": [
    "df = pd.read_csv('./data/Incheon_populationv2.csv',encoding = 'euc-kr',index_col=0)"
   ]
  },
  {
   "cell_type": "code",
   "execution_count": 4,
   "id": "0d212839",
   "metadata": {},
   "outputs": [
    {
     "data": {
      "text/html": [
       "<div>\n",
       "<style scoped>\n",
       "    .dataframe tbody tr th:only-of-type {\n",
       "        vertical-align: middle;\n",
       "    }\n",
       "\n",
       "    .dataframe tbody tr th {\n",
       "        vertical-align: top;\n",
       "    }\n",
       "\n",
       "    .dataframe thead th {\n",
       "        text-align: right;\n",
       "    }\n",
       "</style>\n",
       "<table border=\"1\" class=\"dataframe\">\n",
       "  <thead>\n",
       "    <tr style=\"text-align: right;\">\n",
       "      <th></th>\n",
       "      <th>man(korean)</th>\n",
       "      <th>woman(korean)</th>\n",
       "      <th>man(foreigner)</th>\n",
       "      <th>woman(foreigner)</th>\n",
       "      <th>oldman</th>\n",
       "    </tr>\n",
       "    <tr>\n",
       "      <th>year</th>\n",
       "      <th></th>\n",
       "      <th></th>\n",
       "      <th></th>\n",
       "      <th></th>\n",
       "      <th></th>\n",
       "    </tr>\n",
       "  </thead>\n",
       "  <tbody>\n",
       "    <tr>\n",
       "      <th>2011</th>\n",
       "      <td>1410980</td>\n",
       "      <td>1390294</td>\n",
       "      <td>30523</td>\n",
       "      <td>19694</td>\n",
       "      <td>250528</td>\n",
       "    </tr>\n",
       "    <tr>\n",
       "      <th>2012</th>\n",
       "      <td>1431593</td>\n",
       "      <td>1412388</td>\n",
       "      <td>28099</td>\n",
       "      <td>19206</td>\n",
       "      <td>260107</td>\n",
       "    </tr>\n",
       "    <tr>\n",
       "      <th>2013</th>\n",
       "      <td>1448835</td>\n",
       "      <td>1430947</td>\n",
       "      <td>30027</td>\n",
       "      <td>20355</td>\n",
       "      <td>282471</td>\n",
       "    </tr>\n",
       "    <tr>\n",
       "      <th>2014</th>\n",
       "      <td>1459074</td>\n",
       "      <td>1443534</td>\n",
       "      <td>33030</td>\n",
       "      <td>22293</td>\n",
       "      <td>298818</td>\n",
       "    </tr>\n",
       "    <tr>\n",
       "      <th>2015</th>\n",
       "      <td>1469869</td>\n",
       "      <td>1455946</td>\n",
       "      <td>33770</td>\n",
       "      <td>23899</td>\n",
       "      <td>312905</td>\n",
       "    </tr>\n",
       "    <tr>\n",
       "      <th>2016</th>\n",
       "      <td>1477671</td>\n",
       "      <td>1465398</td>\n",
       "      <td>34394</td>\n",
       "      <td>24709</td>\n",
       "      <td>324255</td>\n",
       "    </tr>\n",
       "    <tr>\n",
       "      <th>2017</th>\n",
       "      <td>1479597</td>\n",
       "      <td>1468945</td>\n",
       "      <td>36353</td>\n",
       "      <td>26243</td>\n",
       "      <td>345024</td>\n",
       "    </tr>\n",
       "    <tr>\n",
       "      <th>2018</th>\n",
       "      <td>1481844</td>\n",
       "      <td>1472798</td>\n",
       "      <td>39200</td>\n",
       "      <td>28669</td>\n",
       "      <td>362675</td>\n",
       "    </tr>\n",
       "    <tr>\n",
       "      <th>2019</th>\n",
       "      <td>1482249</td>\n",
       "      <td>1474777</td>\n",
       "      <td>41155</td>\n",
       "      <td>31104</td>\n",
       "      <td>384506</td>\n",
       "    </tr>\n",
       "    <tr>\n",
       "      <th>2020</th>\n",
       "      <td>1473943</td>\n",
       "      <td>1468885</td>\n",
       "      <td>38152</td>\n",
       "      <td>29496</td>\n",
       "      <td>411483</td>\n",
       "    </tr>\n",
       "    <tr>\n",
       "      <th>2021</th>\n",
       "      <td>1427672</td>\n",
       "      <td>1428993</td>\n",
       "      <td>54530</td>\n",
       "      <td>45849</td>\n",
       "      <td>432149</td>\n",
       "    </tr>\n",
       "    <tr>\n",
       "      <th>2022</th>\n",
       "      <td>1438975</td>\n",
       "      <td>1439949</td>\n",
       "      <td>60130</td>\n",
       "      <td>50071</td>\n",
       "      <td>461596</td>\n",
       "    </tr>\n",
       "  </tbody>\n",
       "</table>\n",
       "</div>"
      ],
      "text/plain": [
       "      man(korean)  woman(korean)  man(foreigner)  woman(foreigner)  oldman\n",
       "year                                                                      \n",
       "2011      1410980        1390294           30523             19694  250528\n",
       "2012      1431593        1412388           28099             19206  260107\n",
       "2013      1448835        1430947           30027             20355  282471\n",
       "2014      1459074        1443534           33030             22293  298818\n",
       "2015      1469869        1455946           33770             23899  312905\n",
       "2016      1477671        1465398           34394             24709  324255\n",
       "2017      1479597        1468945           36353             26243  345024\n",
       "2018      1481844        1472798           39200             28669  362675\n",
       "2019      1482249        1474777           41155             31104  384506\n",
       "2020      1473943        1468885           38152             29496  411483\n",
       "2021      1427672        1428993           54530             45849  432149\n",
       "2022      1438975        1439949           60130             50071  461596"
      ]
     },
     "execution_count": 4,
     "metadata": {},
     "output_type": "execute_result"
    }
   ],
   "source": [
    "df"
   ]
  },
  {
   "cell_type": "code",
   "execution_count": 5,
   "id": "b6c765bc",
   "metadata": {},
   "outputs": [],
   "source": [
    "# df['year'] = df['year'].astype(str)"
   ]
  },
  {
   "cell_type": "code",
   "execution_count": 6,
   "id": "e1c33193",
   "metadata": {},
   "outputs": [
    {
     "name": "stdout",
     "output_type": "stream",
     "text": [
      "[2011, 2012, 2013, 2014, 2015, 2016, 2017, 2018, 2019, 2020, 2021, 2022]\n"
     ]
    }
   ],
   "source": [
    "print(df.index.to_list())"
   ]
  },
  {
   "cell_type": "code",
   "execution_count": 7,
   "id": "73559b81",
   "metadata": {},
   "outputs": [
    {
     "data": {
      "image/png": "[encoded data removed]",
      "text/plain": [
       "<Figure size 640x480 with 1 Axes>"
      ]
     },
     "metadata": {},
     "output_type": "display_data"
    }
   ],
   "source": [
    "plt.style.use('ggplot')\n",
    "plt.title('Incheon elderly population ')\n",
    "plt.xlabel('year')\n",
    "plt.ylabel('persons')\n",
    "plt.plot(df['oldman'])\n",
    "plt.show()"
   ]
  },
  {
   "cell_type": "code",
   "execution_count": 18,
   "id": "774e92a6",
   "metadata": {},
   "outputs": [
    {
     "ename": "NameError",
     "evalue": "name 'woman' is not defined",
     "output_type": "error",
     "traceback": [
      "\u001b[1;31m---------------------------------------------------------------------------\u001b[0m",
      "\u001b[1;31mNameError\u001b[0m                                 Traceback (most recent call last)",
      "Cell \u001b[1;32mIn[18], line 1\u001b[0m\n\u001b[1;32m----> 1\u001b[0m df\u001b[38;5;241m.\u001b[39mloc[\u001b[38;5;241m2020\u001b[39m ,  \u001b[43mwoman\u001b[49m(korean)   ]\n",
      "\u001b[1;31mNameError\u001b[0m: name 'woman' is not defined"
     ]
    }
   ],
   "source": [
    "df.loc[2020 ,  'woman(korean)   ] "
   ]
  },
  {
   "cell_type": "code",
   "execution_count": null,
   "id": "dc74485f",
   "metadata": {},
   "outputs": [],
   "source": [
    "print(df.iloc[0])"
   ]
  },
  {
   "cell_type": "code",
   "execution_count": null,
   "id": "b2ba1d0c",
   "metadata": {},
   "outputs": [],
   "source": [
    "#제일 노인인구가 적었던 해 "
   ]
  },
  {
   "cell_type": "code",
   "execution_count": null,
   "id": "bfcba215",
   "metadata": {},
   "outputs": [],
   "source": [
    "df.loc[ df['oldman'] == df['oldman'].min() , ]"
   ]
  },
  {
   "cell_type": "code",
   "execution_count": null,
   "id": "4c279a2e",
   "metadata": {},
   "outputs": [],
   "source": [
    "#제일 노인인구가 많았던 해 "
   ]
  },
  {
   "cell_type": "code",
   "execution_count": null,
   "id": "4d0e4eed",
   "metadata": {},
   "outputs": [],
   "source": [
    "df.loc[ df['oldman'] == df['oldman'].max() , ]"
   ]
  },
  {
   "cell_type": "code",
   "execution_count": null,
   "id": "43af7067",
   "metadata": {},
   "outputs": [],
   "source": [
    "df"
   ]
  },
  {
   "cell_type": "code",
   "execution_count": null,
   "id": "49ac760c",
   "metadata": {},
   "outputs": [],
   "source": [
    "print(df.loc[[2019,2020],['man(korean)','woman(korean)','man(foreigner)','woman(foreigner)']])"
   ]
  },
  {
   "cell_type": "code",
   "execution_count": null,
   "id": "62c31ca6",
   "metadata": {},
   "outputs": [],
   "source": [
    "df2= df.loc[2020]"
   ]
  },
  {
   "cell_type": "code",
   "execution_count": null,
   "id": "531fef38",
   "metadata": {},
   "outputs": [],
   "source": [
    "plt.pie(df2, labels = df2.index, autopct='%.1f',startangle=90,wedgeprops={'width':0.8})\n",
    "plt.legend()\n",
    "plt.title('2020 Incheon population')\n",
    "plt.show()"
   ]
  },
  {
   "cell_type": "code",
   "execution_count": null,
   "id": "fcc2ad58",
   "metadata": {},
   "outputs": [],
   "source": [
    "df.describe()"
   ]
  },
  {
   "cell_type": "code",
   "execution_count": null,
   "id": "7faca100",
   "metadata": {},
   "outputs": [],
   "source": [
    "# 총 인구 수 와 노인의 상관 관계 "
   ]
  },
  {
   "cell_type": "code",
   "execution_count": null,
   "id": "4f3dfa23",
   "metadata": {},
   "outputs": [],
   "source": [
    "df2=df.sum(axis=1)"
   ]
  },
  {
   "cell_type": "code",
   "execution_count": null,
   "id": "133310bc",
   "metadata": {},
   "outputs": [],
   "source": [
    "df2"
   ]
  },
  {
   "cell_type": "code",
   "execution_count": null,
   "id": "a4fd03d6",
   "metadata": {},
   "outputs": [],
   "source": [
    "df['sum'] = df2"
   ]
  },
  {
   "cell_type": "code",
   "execution_count": null,
   "id": "38f73211",
   "metadata": {},
   "outputs": [],
   "source": [
    "df"
   ]
  },
  {
   "cell_type": "code",
   "execution_count": null,
   "id": "ed9b2987",
   "metadata": {},
   "outputs": [],
   "source": [
    "plt.scatter(data = df, x= 'sum', y= 'oldman')\n",
    "plt.title('Population Vs Oldman')\n",
    "plt.xlabel('Population Total')\n",
    "plt.ylabel('Oldman')\n",
    "plt.show()"
   ]
  },
  {
   "cell_type": "code",
   "execution_count": null,
   "id": "f3ae5ef1",
   "metadata": {},
   "outputs": [],
   "source": [
    "from sklearn.model_selection import train_test_split"
   ]
  },
  {
   "cell_type": "code",
   "execution_count": null,
   "id": "be784081",
   "metadata": {},
   "outputs": [],
   "source": [
    "X = df.loc[ : , 'man(korean)' : 'woman(foreigner)'  ]  "
   ]
  },
  {
   "cell_type": "code",
   "execution_count": null,
   "id": "f5a5c045",
   "metadata": {},
   "outputs": [],
   "source": [
    "y = df['oldman']"
   ]
  },
  {
   "cell_type": "code",
   "execution_count": null,
   "id": "f353e00b",
   "metadata": {},
   "outputs": [],
   "source": [
    "y"
   ]
  },
  {
   "cell_type": "code",
   "execution_count": null,
   "id": "cf036648",
   "metadata": {},
   "outputs": [],
   "source": [
    "# Scikit-Learn 의 LinearRegression 은, 자동으로 피쳐 스케일링을 해준다."
   ]
  },
  {
   "cell_type": "code",
   "execution_count": null,
   "id": "bd0a69a8",
   "metadata": {},
   "outputs": [],
   "source": [
    "# Train / Test 로 나누기"
   ]
  },
  {
   "cell_type": "code",
   "execution_count": null,
   "id": "6aa462fc",
   "metadata": {},
   "outputs": [],
   "source": [
    "X_train, X_test, y_train, y_test = train_test_split(X, y, test_size= 0.2,  random_state= 42)"
   ]
  },
  {
   "cell_type": "code",
   "execution_count": null,
   "id": "379c6166",
   "metadata": {},
   "outputs": [],
   "source": [
    "from sklearn.linear_model import LinearRegression"
   ]
  },
  {
   "cell_type": "code",
   "execution_count": null,
   "id": "204b2682",
   "metadata": {},
   "outputs": [],
   "source": [
    "regressor = LinearRegression() #선형회계 "
   ]
  },
  {
   "cell_type": "code",
   "execution_count": null,
   "id": "f10bea59",
   "metadata": {},
   "outputs": [],
   "source": [
    "#학습"
   ]
  },
  {
   "cell_type": "code",
   "execution_count": null,
   "id": "98dac2b5",
   "metadata": {},
   "outputs": [],
   "source": [
    "regressor.fit(X_train,y_train)"
   ]
  },
  {
   "cell_type": "code",
   "execution_count": null,
   "id": "61002a2b",
   "metadata": {},
   "outputs": [],
   "source": [
    "X_train"
   ]
  },
  {
   "cell_type": "code",
   "execution_count": null,
   "id": "7368d8a1",
   "metadata": {},
   "outputs": [],
   "source": [
    "y_pred = regressor.predict(X_test) #테스트 값을 넣고 예측."
   ]
  },
  {
   "cell_type": "code",
   "execution_count": null,
   "id": "799e9e38",
   "metadata": {},
   "outputs": [],
   "source": [
    "y_pred"
   ]
  },
  {
   "cell_type": "code",
   "execution_count": null,
   "id": "57b897d8",
   "metadata": {},
   "outputs": [],
   "source": [
    "y_test"
   ]
  },
  {
   "cell_type": "code",
   "execution_count": null,
   "id": "f8b591c9",
   "metadata": {},
   "outputs": [],
   "source": [
    "((y_test - y_pred) ** 2 ).mean()"
   ]
  },
  {
   "cell_type": "code",
   "execution_count": null,
   "id": "4c160abb",
   "metadata": {},
   "outputs": [],
   "source": [
    "new_data = np.array( [1477671,1465398,34394,24709] )"
   ]
  },
  {
   "cell_type": "code",
   "execution_count": null,
   "id": "b87b29e9",
   "metadata": {},
   "outputs": [],
   "source": [
    "new_data"
   ]
  },
  {
   "cell_type": "code",
   "execution_count": null,
   "id": "66426c7f",
   "metadata": {},
   "outputs": [],
   "source": [
    "new_data = new_data.reshape(1,4)"
   ]
  },
  {
   "cell_type": "code",
   "execution_count": null,
   "id": "6fdac43e",
   "metadata": {},
   "outputs": [],
   "source": [
    "new_data.ndim"
   ]
  },
  {
   "cell_type": "code",
   "execution_count": null,
   "id": "aaef3d77",
   "metadata": {},
   "outputs": [],
   "source": [
    "regressor.predict(new_data) ## 예측"
   ]
  },
  {
   "cell_type": "code",
   "execution_count": null,
   "id": "0b9d1bd4",
   "metadata": {},
   "outputs": [],
   "source": [
    "import joblib"
   ]
  },
  {
   "cell_type": "code",
   "execution_count": null,
   "id": "f5952577",
   "metadata": {},
   "outputs": [],
   "source": [
    "joblib.dump(regressor,'regressor.pkl')"
   ]
  },
  {
   "cell_type": "code",
   "execution_count": null,
   "id": "d9bf66d7",
   "metadata": {},
   "outputs": [],
   "source": []
  }
 ],
 "metadata": {
  "kernelspec": {
   "display_name": "Python 3 (ipykernel)",
   "language": "python",
   "name": "python3"
  },
  "language_info": {
   "codemirror_mode": {
    "name": "ipython",
    "version": 3
   },
   "file_extension": ".py",
   "mimetype": "text/x-python",
   "name": "python",
   "nbconvert_exporter": "python",
   "pygments_lexer": "ipython3",
   "version": "3.9.18"
  }
 },
 "nbformat": 4,
 "nbformat_minor": 5
}
