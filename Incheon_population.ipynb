{
 "cells": [
  {
   "cell_type": "code",
   "execution_count": 52,
   "id": "e6a9038f",
   "metadata": {},
   "outputs": [],
   "source": [
    "import pandas as pd\n",
    "import numpy as np\n",
    "import matplotlib.pyplot as plt\n",
    "import seaborn as sb "
   ]
  },
  {
   "cell_type": "code",
   "execution_count": 57,
   "id": "0f3cbb2d",
   "metadata": {},
   "outputs": [],
   "source": [
    "df = pd.read_csv('./data/Incheon_populationv2.csv',encoding = 'euc-kr')"
   ]
  },
  {
   "cell_type": "code",
   "execution_count": 58,
   "id": "0d212839",
   "metadata": {},
   "outputs": [
    {
     "data": {
      "text/html": [
       "<div>\n",
       "<style scoped>\n",
       "    .dataframe tbody tr th:only-of-type {\n",
       "        vertical-align: middle;\n",
       "    }\n",
       "\n",
       "    .dataframe tbody tr th {\n",
       "        vertical-align: top;\n",
       "    }\n",
       "\n",
       "    .dataframe thead th {\n",
       "        text-align: right;\n",
       "    }\n",
       "</style>\n",
       "<table border=\"1\" class=\"dataframe\">\n",
       "  <thead>\n",
       "    <tr style=\"text-align: right;\">\n",
       "      <th></th>\n",
       "      <th>year</th>\n",
       "      <th>man(korean)</th>\n",
       "      <th>woman(korean)</th>\n",
       "      <th>man(foreigner)</th>\n",
       "      <th>woman(foreigner)</th>\n",
       "      <th>oldman</th>\n",
       "    </tr>\n",
       "  </thead>\n",
       "  <tbody>\n",
       "    <tr>\n",
       "      <th>0</th>\n",
       "      <td>2011</td>\n",
       "      <td>1410980</td>\n",
       "      <td>1390294</td>\n",
       "      <td>30523</td>\n",
       "      <td>19694</td>\n",
       "      <td>250528</td>\n",
       "    </tr>\n",
       "    <tr>\n",
       "      <th>1</th>\n",
       "      <td>2012</td>\n",
       "      <td>1431593</td>\n",
       "      <td>1412388</td>\n",
       "      <td>28099</td>\n",
       "      <td>19206</td>\n",
       "      <td>260107</td>\n",
       "    </tr>\n",
       "    <tr>\n",
       "      <th>2</th>\n",
       "      <td>2013</td>\n",
       "      <td>1448835</td>\n",
       "      <td>1430947</td>\n",
       "      <td>30027</td>\n",
       "      <td>20355</td>\n",
       "      <td>282471</td>\n",
       "    </tr>\n",
       "    <tr>\n",
       "      <th>3</th>\n",
       "      <td>2014</td>\n",
       "      <td>1459074</td>\n",
       "      <td>1443534</td>\n",
       "      <td>33030</td>\n",
       "      <td>22293</td>\n",
       "      <td>298818</td>\n",
       "    </tr>\n",
       "    <tr>\n",
       "      <th>4</th>\n",
       "      <td>2015</td>\n",
       "      <td>1469869</td>\n",
       "      <td>1455946</td>\n",
       "      <td>33770</td>\n",
       "      <td>23899</td>\n",
       "      <td>312905</td>\n",
       "    </tr>\n",
       "    <tr>\n",
       "      <th>5</th>\n",
       "      <td>2016</td>\n",
       "      <td>1477671</td>\n",
       "      <td>1465398</td>\n",
       "      <td>34394</td>\n",
       "      <td>24709</td>\n",
       "      <td>324255</td>\n",
       "    </tr>\n",
       "    <tr>\n",
       "      <th>6</th>\n",
       "      <td>2017</td>\n",
       "      <td>1479597</td>\n",
       "      <td>1468945</td>\n",
       "      <td>36353</td>\n",
       "      <td>26243</td>\n",
       "      <td>345024</td>\n",
       "    </tr>\n",
       "    <tr>\n",
       "      <th>7</th>\n",
       "      <td>2018</td>\n",
       "      <td>1481844</td>\n",
       "      <td>1472798</td>\n",
       "      <td>39200</td>\n",
       "      <td>28669</td>\n",
       "      <td>362675</td>\n",
       "    </tr>\n",
       "    <tr>\n",
       "      <th>8</th>\n",
       "      <td>2019</td>\n",
       "      <td>1482249</td>\n",
       "      <td>1474777</td>\n",
       "      <td>41155</td>\n",
       "      <td>31104</td>\n",
       "      <td>384506</td>\n",
       "    </tr>\n",
       "    <tr>\n",
       "      <th>9</th>\n",
       "      <td>2020</td>\n",
       "      <td>1473943</td>\n",
       "      <td>1468885</td>\n",
       "      <td>38152</td>\n",
       "      <td>29496</td>\n",
       "      <td>411483</td>\n",
       "    </tr>\n",
       "  </tbody>\n",
       "</table>\n",
       "</div>"
      ],
      "text/plain": [
       "   year  man(korean)  woman(korean)  man(foreigner)  woman(foreigner)  oldman\n",
       "0  2011      1410980        1390294           30523             19694  250528\n",
       "1  2012      1431593        1412388           28099             19206  260107\n",
       "2  2013      1448835        1430947           30027             20355  282471\n",
       "3  2014      1459074        1443534           33030             22293  298818\n",
       "4  2015      1469869        1455946           33770             23899  312905\n",
       "5  2016      1477671        1465398           34394             24709  324255\n",
       "6  2017      1479597        1468945           36353             26243  345024\n",
       "7  2018      1481844        1472798           39200             28669  362675\n",
       "8  2019      1482249        1474777           41155             31104  384506\n",
       "9  2020      1473943        1468885           38152             29496  411483"
      ]
     },
     "execution_count": 58,
     "metadata": {},
     "output_type": "execute_result"
    }
   ],
   "source": [
    "df"
   ]
  },
  {
   "cell_type": "code",
   "execution_count": 62,
   "id": "b6c765bc",
   "metadata": {},
   "outputs": [],
   "source": [
    " df['year'] = df['year'].astype(str)"
   ]
  },
  {
   "cell_type": "code",
   "execution_count": 60,
   "id": "e1c33193",
   "metadata": {},
   "outputs": [
    {
     "name": "stdout",
     "output_type": "stream",
     "text": [
      "[0, 1, 2, 3, 4, 5, 6, 7, 8, 9]\n"
     ]
    }
   ],
   "source": [
    "print(df.index.to_list())"
   ]
  },
  {
   "cell_type": "code",
   "execution_count": 8,
   "id": "73559b81",
   "metadata": {},
   "outputs": [
    {
     "data": {
      "image/png": "[encoded data removed]",
      "text/plain": [
       "<Figure size 640x480 with 1 Axes>"
      ]
     },
     "metadata": {},
     "output_type": "display_data"
    }
   ],
   "source": [
    "plt.style.use('ggplot')\n",
    "plt.title('Incheon elderly population ')\n",
    "plt.xlabel('year')\n",
    "plt.ylabel('persons')\n",
    "plt.plot(df['oldman'])\n",
    "plt.show()"
   ]
  },
  {
   "cell_type": "code",
   "execution_count": null,
   "id": "774e92a6",
   "metadata": {},
   "outputs": [],
   "source": []
  },
  {
   "cell_type": "code",
   "execution_count": null,
   "id": "dc74485f",
   "metadata": {},
   "outputs": [],
   "source": [
    "print(df.iloc[0])"
   ]
  },
  {
   "cell_type": "code",
   "execution_count": 49,
   "id": "b2ba1d0c",
   "metadata": {},
   "outputs": [],
   "source": [
    "#제일 노인인구가 적었던 해 "
   ]
  },
  {
   "cell_type": "code",
   "execution_count": 50,
   "id": "bfcba215",
   "metadata": {},
   "outputs": [
    {
     "data": {
      "text/html": [
       "<div>\n",
       "<style scoped>\n",
       "    .dataframe tbody tr th:only-of-type {\n",
       "        vertical-align: middle;\n",
       "    }\n",
       "\n",
       "    .dataframe tbody tr th {\n",
       "        vertical-align: top;\n",
       "    }\n",
       "\n",
       "    .dataframe thead th {\n",
       "        text-align: right;\n",
       "    }\n",
       "</style>\n",
       "<table border=\"1\" class=\"dataframe\">\n",
       "  <thead>\n",
       "    <tr style=\"text-align: right;\">\n",
       "      <th></th>\n",
       "      <th>man(korean)</th>\n",
       "      <th>woman(korean)</th>\n",
       "      <th>man(foreigner)</th>\n",
       "      <th>woman(foreigner)</th>\n",
       "      <th>oldman</th>\n",
       "      <th>sum</th>\n",
       "    </tr>\n",
       "    <tr>\n",
       "      <th>year</th>\n",
       "      <th></th>\n",
       "      <th></th>\n",
       "      <th></th>\n",
       "      <th></th>\n",
       "      <th></th>\n",
       "      <th></th>\n",
       "    </tr>\n",
       "  </thead>\n",
       "  <tbody>\n",
       "    <tr>\n",
       "      <th>2011</th>\n",
       "      <td>1410980</td>\n",
       "      <td>1390294</td>\n",
       "      <td>30523</td>\n",
       "      <td>19694</td>\n",
       "      <td>250528</td>\n",
       "      <td>3102019</td>\n",
       "    </tr>\n",
       "  </tbody>\n",
       "</table>\n",
       "</div>"
      ],
      "text/plain": [
       "      man(korean)  woman(korean)  man(foreigner)  woman(foreigner)  oldman  \\\n",
       "year                                                                         \n",
       "2011      1410980        1390294           30523             19694  250528   \n",
       "\n",
       "          sum  \n",
       "year           \n",
       "2011  3102019  "
      ]
     },
     "execution_count": 50,
     "metadata": {},
     "output_type": "execute_result"
    }
   ],
   "source": [
    "df.loc[ df['oldman'] == df['oldman'].min() , ]"
   ]
  },
  {
   "cell_type": "code",
   "execution_count": 51,
   "id": "4c279a2e",
   "metadata": {},
   "outputs": [],
   "source": [
    "#제일 노인인구가 많았던 해 "
   ]
  },
  {
   "cell_type": "code",
   "execution_count": 46,
   "id": "4d0e4eed",
   "metadata": {},
   "outputs": [
    {
     "data": {
      "text/html": [
       "<div>\n",
       "<style scoped>\n",
       "    .dataframe tbody tr th:only-of-type {\n",
       "        vertical-align: middle;\n",
       "    }\n",
       "\n",
       "    .dataframe tbody tr th {\n",
       "        vertical-align: top;\n",
       "    }\n",
       "\n",
       "    .dataframe thead th {\n",
       "        text-align: right;\n",
       "    }\n",
       "</style>\n",
       "<table border=\"1\" class=\"dataframe\">\n",
       "  <thead>\n",
       "    <tr style=\"text-align: right;\">\n",
       "      <th></th>\n",
       "      <th>man(korean)</th>\n",
       "      <th>woman(korean)</th>\n",
       "      <th>man(foreigner)</th>\n",
       "      <th>woman(foreigner)</th>\n",
       "      <th>oldman</th>\n",
       "      <th>sum</th>\n",
       "    </tr>\n",
       "    <tr>\n",
       "      <th>year</th>\n",
       "      <th></th>\n",
       "      <th></th>\n",
       "      <th></th>\n",
       "      <th></th>\n",
       "      <th></th>\n",
       "      <th></th>\n",
       "    </tr>\n",
       "  </thead>\n",
       "  <tbody>\n",
       "    <tr>\n",
       "      <th>2020</th>\n",
       "      <td>1473943</td>\n",
       "      <td>1468885</td>\n",
       "      <td>38152</td>\n",
       "      <td>29496</td>\n",
       "      <td>411483</td>\n",
       "      <td>3421959</td>\n",
       "    </tr>\n",
       "  </tbody>\n",
       "</table>\n",
       "</div>"
      ],
      "text/plain": [
       "      man(korean)  woman(korean)  man(foreigner)  woman(foreigner)  oldman  \\\n",
       "year                                                                         \n",
       "2020      1473943        1468885           38152             29496  411483   \n",
       "\n",
       "          sum  \n",
       "year           \n",
       "2020  3421959  "
      ]
     },
     "execution_count": 46,
     "metadata": {},
     "output_type": "execute_result"
    }
   ],
   "source": [
    "df.loc[ df['oldman'] == df['oldman'].max() , ]"
   ]
  },
  {
   "cell_type": "code",
   "execution_count": 11,
   "id": "43af7067",
   "metadata": {},
   "outputs": [
    {
     "name": "stdout",
     "output_type": "stream",
     "text": [
      "1473943\n"
     ]
    }
   ],
   "source": [
    "print(df.loc[2020,'man(korean)'])"
   ]
  },
  {
   "cell_type": "code",
   "execution_count": 12,
   "id": "49ac760c",
   "metadata": {},
   "outputs": [
    {
     "name": "stdout",
     "output_type": "stream",
     "text": [
      "      man(korean)  woman(korean)\n",
      "year                            \n",
      "2019      1482249        1474777\n",
      "2020      1473943        1468885\n"
     ]
    }
   ],
   "source": [
    "print(df.loc[[2019,2020],['man(korean)','woman(korean)']])"
   ]
  },
  {
   "cell_type": "code",
   "execution_count": 13,
   "id": "62c31ca6",
   "metadata": {},
   "outputs": [],
   "source": [
    "df2= df.loc[2020]"
   ]
  },
  {
   "cell_type": "code",
   "execution_count": 14,
   "id": "531fef38",
   "metadata": {},
   "outputs": [
    {
     "data": {
      "image/png": "[encoded data removed]",
      "text/plain": [
       "<Figure size 640x480 with 1 Axes>"
      ]
     },
     "metadata": {},
     "output_type": "display_data"
    }
   ],
   "source": [
    "plt.pie(df2, labels = df2.index, autopct='%.1f',startangle=90,wedgeprops={'width':0.8})\n",
    "plt.legend()\n",
    "plt.title('2020 Incheon population')\n",
    "plt.show()"
   ]
  },
  {
   "cell_type": "code",
   "execution_count": 15,
   "id": "fcc2ad58",
   "metadata": {},
   "outputs": [
    {
     "data": {
      "text/html": [
       "<div>\n",
       "<style scoped>\n",
       "    .dataframe tbody tr th:only-of-type {\n",
       "        vertical-align: middle;\n",
       "    }\n",
       "\n",
       "    .dataframe tbody tr th {\n",
       "        vertical-align: top;\n",
       "    }\n",
       "\n",
       "    .dataframe thead th {\n",
       "        text-align: right;\n",
       "    }\n",
       "</style>\n",
       "<table border=\"1\" class=\"dataframe\">\n",
       "  <thead>\n",
       "    <tr style=\"text-align: right;\">\n",
       "      <th></th>\n",
       "      <th>man(korean)</th>\n",
       "      <th>woman(korean)</th>\n",
       "      <th>man(foreigner)</th>\n",
       "      <th>woman(foreigner)</th>\n",
       "      <th>oldman</th>\n",
       "    </tr>\n",
       "  </thead>\n",
       "  <tbody>\n",
       "    <tr>\n",
       "      <th>count</th>\n",
       "      <td>1.000000e+01</td>\n",
       "      <td>1.000000e+01</td>\n",
       "      <td>10.000000</td>\n",
       "      <td>10.000000</td>\n",
       "      <td>10.000000</td>\n",
       "    </tr>\n",
       "    <tr>\n",
       "      <th>mean</th>\n",
       "      <td>1.461566e+06</td>\n",
       "      <td>1.448391e+06</td>\n",
       "      <td>34470.300000</td>\n",
       "      <td>24566.800000</td>\n",
       "      <td>323277.200000</td>\n",
       "    </tr>\n",
       "    <tr>\n",
       "      <th>std</th>\n",
       "      <td>2.420104e+04</td>\n",
       "      <td>2.882913e+04</td>\n",
       "      <td>4251.052315</td>\n",
       "      <td>4249.544389</td>\n",
       "      <td>52924.680627</td>\n",
       "    </tr>\n",
       "    <tr>\n",
       "      <th>min</th>\n",
       "      <td>1.410980e+06</td>\n",
       "      <td>1.390294e+06</td>\n",
       "      <td>28099.000000</td>\n",
       "      <td>19206.000000</td>\n",
       "      <td>250528.000000</td>\n",
       "    </tr>\n",
       "    <tr>\n",
       "      <th>25%</th>\n",
       "      <td>1.451395e+06</td>\n",
       "      <td>1.434094e+06</td>\n",
       "      <td>31149.750000</td>\n",
       "      <td>20839.500000</td>\n",
       "      <td>286557.750000</td>\n",
       "    </tr>\n",
       "    <tr>\n",
       "      <th>50%</th>\n",
       "      <td>1.471906e+06</td>\n",
       "      <td>1.460672e+06</td>\n",
       "      <td>34082.000000</td>\n",
       "      <td>24304.000000</td>\n",
       "      <td>318580.000000</td>\n",
       "    </tr>\n",
       "    <tr>\n",
       "      <th>75%</th>\n",
       "      <td>1.479116e+06</td>\n",
       "      <td>1.468930e+06</td>\n",
       "      <td>37702.250000</td>\n",
       "      <td>28062.500000</td>\n",
       "      <td>358262.250000</td>\n",
       "    </tr>\n",
       "    <tr>\n",
       "      <th>max</th>\n",
       "      <td>1.482249e+06</td>\n",
       "      <td>1.474777e+06</td>\n",
       "      <td>41155.000000</td>\n",
       "      <td>31104.000000</td>\n",
       "      <td>411483.000000</td>\n",
       "    </tr>\n",
       "  </tbody>\n",
       "</table>\n",
       "</div>"
      ],
      "text/plain": [
       "        man(korean)  woman(korean)  man(foreigner)  woman(foreigner)  \\\n",
       "count  1.000000e+01   1.000000e+01       10.000000         10.000000   \n",
       "mean   1.461566e+06   1.448391e+06    34470.300000      24566.800000   \n",
       "std    2.420104e+04   2.882913e+04     4251.052315       4249.544389   \n",
       "min    1.410980e+06   1.390294e+06    28099.000000      19206.000000   \n",
       "25%    1.451395e+06   1.434094e+06    31149.750000      20839.500000   \n",
       "50%    1.471906e+06   1.460672e+06    34082.000000      24304.000000   \n",
       "75%    1.479116e+06   1.468930e+06    37702.250000      28062.500000   \n",
       "max    1.482249e+06   1.474777e+06    41155.000000      31104.000000   \n",
       "\n",
       "              oldman  \n",
       "count      10.000000  \n",
       "mean   323277.200000  \n",
       "std     52924.680627  \n",
       "min    250528.000000  \n",
       "25%    286557.750000  \n",
       "50%    318580.000000  \n",
       "75%    358262.250000  \n",
       "max    411483.000000  "
      ]
     },
     "execution_count": 15,
     "metadata": {},
     "output_type": "execute_result"
    }
   ],
   "source": [
    "df.describe()"
   ]
  },
  {
   "cell_type": "code",
   "execution_count": 16,
   "id": "7faca100",
   "metadata": {},
   "outputs": [],
   "source": [
    "# 총 인구 수 와 노인의 상관 관계 "
   ]
  },
  {
   "cell_type": "code",
   "execution_count": 17,
   "id": "4f3dfa23",
   "metadata": {},
   "outputs": [],
   "source": [
    "df2=df.sum(axis=1)"
   ]
  },
  {
   "cell_type": "code",
   "execution_count": 18,
   "id": "133310bc",
   "metadata": {},
   "outputs": [
    {
     "data": {
      "text/plain": [
       "year\n",
       "2011    3102019\n",
       "2012    3151393\n",
       "2013    3212635\n",
       "2014    3256749\n",
       "2015    3296389\n",
       "2016    3326427\n",
       "2017    3356162\n",
       "2018    3385186\n",
       "2019    3413791\n",
       "2020    3421959\n",
       "dtype: int64"
      ]
     },
     "execution_count": 18,
     "metadata": {},
     "output_type": "execute_result"
    }
   ],
   "source": [
    "df2"
   ]
  },
  {
   "cell_type": "code",
   "execution_count": 19,
   "id": "a4fd03d6",
   "metadata": {},
   "outputs": [],
   "source": [
    "df['sum'] = df2"
   ]
  },
  {
   "cell_type": "code",
   "execution_count": 20,
   "id": "38f73211",
   "metadata": {},
   "outputs": [
    {
     "data": {
      "text/html": [
       "<div>\n",
       "<style scoped>\n",
       "    .dataframe tbody tr th:only-of-type {\n",
       "        vertical-align: middle;\n",
       "    }\n",
       "\n",
       "    .dataframe tbody tr th {\n",
       "        vertical-align: top;\n",
       "    }\n",
       "\n",
       "    .dataframe thead th {\n",
       "        text-align: right;\n",
       "    }\n",
       "</style>\n",
       "<table border=\"1\" class=\"dataframe\">\n",
       "  <thead>\n",
       "    <tr style=\"text-align: right;\">\n",
       "      <th></th>\n",
       "      <th>man(korean)</th>\n",
       "      <th>woman(korean)</th>\n",
       "      <th>man(foreigner)</th>\n",
       "      <th>woman(foreigner)</th>\n",
       "      <th>oldman</th>\n",
       "      <th>sum</th>\n",
       "    </tr>\n",
       "    <tr>\n",
       "      <th>year</th>\n",
       "      <th></th>\n",
       "      <th></th>\n",
       "      <th></th>\n",
       "      <th></th>\n",
       "      <th></th>\n",
       "      <th></th>\n",
       "    </tr>\n",
       "  </thead>\n",
       "  <tbody>\n",
       "    <tr>\n",
       "      <th>2011</th>\n",
       "      <td>1410980</td>\n",
       "      <td>1390294</td>\n",
       "      <td>30523</td>\n",
       "      <td>19694</td>\n",
       "      <td>250528</td>\n",
       "      <td>3102019</td>\n",
       "    </tr>\n",
       "    <tr>\n",
       "      <th>2012</th>\n",
       "      <td>1431593</td>\n",
       "      <td>1412388</td>\n",
       "      <td>28099</td>\n",
       "      <td>19206</td>\n",
       "      <td>260107</td>\n",
       "      <td>3151393</td>\n",
       "    </tr>\n",
       "    <tr>\n",
       "      <th>2013</th>\n",
       "      <td>1448835</td>\n",
       "      <td>1430947</td>\n",
       "      <td>30027</td>\n",
       "      <td>20355</td>\n",
       "      <td>282471</td>\n",
       "      <td>3212635</td>\n",
       "    </tr>\n",
       "    <tr>\n",
       "      <th>2014</th>\n",
       "      <td>1459074</td>\n",
       "      <td>1443534</td>\n",
       "      <td>33030</td>\n",
       "      <td>22293</td>\n",
       "      <td>298818</td>\n",
       "      <td>3256749</td>\n",
       "    </tr>\n",
       "    <tr>\n",
       "      <th>2015</th>\n",
       "      <td>1469869</td>\n",
       "      <td>1455946</td>\n",
       "      <td>33770</td>\n",
       "      <td>23899</td>\n",
       "      <td>312905</td>\n",
       "      <td>3296389</td>\n",
       "    </tr>\n",
       "    <tr>\n",
       "      <th>2016</th>\n",
       "      <td>1477671</td>\n",
       "      <td>1465398</td>\n",
       "      <td>34394</td>\n",
       "      <td>24709</td>\n",
       "      <td>324255</td>\n",
       "      <td>3326427</td>\n",
       "    </tr>\n",
       "    <tr>\n",
       "      <th>2017</th>\n",
       "      <td>1479597</td>\n",
       "      <td>1468945</td>\n",
       "      <td>36353</td>\n",
       "      <td>26243</td>\n",
       "      <td>345024</td>\n",
       "      <td>3356162</td>\n",
       "    </tr>\n",
       "    <tr>\n",
       "      <th>2018</th>\n",
       "      <td>1481844</td>\n",
       "      <td>1472798</td>\n",
       "      <td>39200</td>\n",
       "      <td>28669</td>\n",
       "      <td>362675</td>\n",
       "      <td>3385186</td>\n",
       "    </tr>\n",
       "    <tr>\n",
       "      <th>2019</th>\n",
       "      <td>1482249</td>\n",
       "      <td>1474777</td>\n",
       "      <td>41155</td>\n",
       "      <td>31104</td>\n",
       "      <td>384506</td>\n",
       "      <td>3413791</td>\n",
       "    </tr>\n",
       "    <tr>\n",
       "      <th>2020</th>\n",
       "      <td>1473943</td>\n",
       "      <td>1468885</td>\n",
       "      <td>38152</td>\n",
       "      <td>29496</td>\n",
       "      <td>411483</td>\n",
       "      <td>3421959</td>\n",
       "    </tr>\n",
       "  </tbody>\n",
       "</table>\n",
       "</div>"
      ],
      "text/plain": [
       "      man(korean)  woman(korean)  man(foreigner)  woman(foreigner)  oldman  \\\n",
       "year                                                                         \n",
       "2011      1410980        1390294           30523             19694  250528   \n",
       "2012      1431593        1412388           28099             19206  260107   \n",
       "2013      1448835        1430947           30027             20355  282471   \n",
       "2014      1459074        1443534           33030             22293  298818   \n",
       "2015      1469869        1455946           33770             23899  312905   \n",
       "2016      1477671        1465398           34394             24709  324255   \n",
       "2017      1479597        1468945           36353             26243  345024   \n",
       "2018      1481844        1472798           39200             28669  362675   \n",
       "2019      1482249        1474777           41155             31104  384506   \n",
       "2020      1473943        1468885           38152             29496  411483   \n",
       "\n",
       "          sum  \n",
       "year           \n",
       "2011  3102019  \n",
       "2012  3151393  \n",
       "2013  3212635  \n",
       "2014  3256749  \n",
       "2015  3296389  \n",
       "2016  3326427  \n",
       "2017  3356162  \n",
       "2018  3385186  \n",
       "2019  3413791  \n",
       "2020  3421959  "
      ]
     },
     "execution_count": 20,
     "metadata": {},
     "output_type": "execute_result"
    }
   ],
   "source": [
    "df"
   ]
  },
  {
   "cell_type": "code",
   "execution_count": 21,
   "id": "ed9b2987",
   "metadata": {},
   "outputs": [
    {
     "data": {
      "image/png": "[encoded data removed]",
      "text/plain": [
       "<Figure size 640x480 with 1 Axes>"
      ]
     },
     "metadata": {},
     "output_type": "display_data"
    }
   ],
   "source": [
    "plt.scatter(data = df, x= 'sum', y= 'oldman')\n",
    "plt.title('Population Vs Oldman')\n",
    "plt.xlabel('Population Total')\n",
    "plt.ylabel('Oldman')\n",
    "plt.show()"
   ]
  },
  {
   "cell_type": "code",
   "execution_count": 22,
   "id": "f3ae5ef1",
   "metadata": {},
   "outputs": [],
   "source": [
    "from sklearn.model_selection import train_test_split"
   ]
  },
  {
   "cell_type": "code",
   "execution_count": 23,
   "id": "be784081",
   "metadata": {},
   "outputs": [],
   "source": [
    "X = df.loc[ : , 'man(korean)' : 'woman(foreigner)'  ]  "
   ]
  },
  {
   "cell_type": "code",
   "execution_count": 24,
   "id": "f5a5c045",
   "metadata": {},
   "outputs": [],
   "source": [
    "y = df['oldman']"
   ]
  },
  {
   "cell_type": "code",
   "execution_count": 25,
   "id": "f353e00b",
   "metadata": {},
   "outputs": [
    {
     "data": {
      "text/plain": [
       "year\n",
       "2011    250528\n",
       "2012    260107\n",
       "2013    282471\n",
       "2014    298818\n",
       "2015    312905\n",
       "2016    324255\n",
       "2017    345024\n",
       "2018    362675\n",
       "2019    384506\n",
       "2020    411483\n",
       "Name: oldman, dtype: int64"
      ]
     },
     "execution_count": 25,
     "metadata": {},
     "output_type": "execute_result"
    }
   ],
   "source": [
    "y"
   ]
  },
  {
   "cell_type": "code",
   "execution_count": 26,
   "id": "cf036648",
   "metadata": {},
   "outputs": [],
   "source": [
    "# Scikit-Learn 의 LinearRegression 은, 자동으로 피쳐 스케일링을 해준다."
   ]
  },
  {
   "cell_type": "code",
   "execution_count": 27,
   "id": "bd0a69a8",
   "metadata": {},
   "outputs": [],
   "source": [
    "# Train / Test 로 나누기"
   ]
  },
  {
   "cell_type": "code",
   "execution_count": 28,
   "id": "6aa462fc",
   "metadata": {},
   "outputs": [],
   "source": [
    "X_train, X_test, y_train, y_test = train_test_split(X, y, test_size= 0.2,  random_state= 42)"
   ]
  },
  {
   "cell_type": "code",
   "execution_count": 29,
   "id": "379c6166",
   "metadata": {},
   "outputs": [],
   "source": [
    "from sklearn.linear_model import LinearRegression"
   ]
  },
  {
   "cell_type": "code",
   "execution_count": 30,
   "id": "204b2682",
   "metadata": {},
   "outputs": [],
   "source": [
    "regressor = LinearRegression() #선형회계 "
   ]
  },
  {
   "cell_type": "code",
   "execution_count": 31,
   "id": "f10bea59",
   "metadata": {},
   "outputs": [],
   "source": [
    "#학습"
   ]
  },
  {
   "cell_type": "code",
   "execution_count": 32,
   "id": "98dac2b5",
   "metadata": {},
   "outputs": [
    {
     "data": {
      "text/html": [
       "<style>#sk-container-id-1 {color: black;}#sk-container-id-1 pre{padding: 0;}#sk-container-id-1 div.sk-toggleable {background-color: white;}#sk-container-id-1 label.sk-toggleable__label {cursor: pointer;display: block;width: 100%;margin-bottom: 0;padding: 0.3em;box-sizing: border-box;text-align: center;}#sk-container-id-1 label.sk-toggleable__label-arrow:before {content: \"▸\";float: left;margin-right: 0.25em;color: #696969;}#sk-container-id-1 label.sk-toggleable__label-arrow:hover:before {color: black;}#sk-container-id-1 div.sk-estimator:hover label.sk-toggleable__label-arrow:before {color: black;}#sk-container-id-1 div.sk-toggleable__content {max-height: 0;max-width: 0;overflow: hidden;text-align: left;background-color: #f0f8ff;}#sk-container-id-1 div.sk-toggleable__content pre {margin: 0.2em;color: black;border-radius: 0.25em;background-color: #f0f8ff;}#sk-container-id-1 input.sk-toggleable__control:checked~div.sk-toggleable__content {max-height: 200px;max-width: 100%;overflow: auto;}#sk-container-id-1 input.sk-toggleable__control:checked~label.sk-toggleable__label-arrow:before {content: \"▾\";}#sk-container-id-1 div.sk-estimator input.sk-toggleable__control:checked~label.sk-toggleable__label {background-color: #d4ebff;}#sk-container-id-1 div.sk-label input.sk-toggleable__control:checked~label.sk-toggleable__label {background-color: #d4ebff;}#sk-container-id-1 input.sk-hidden--visually {border: 0;clip: rect(1px 1px 1px 1px);clip: rect(1px, 1px, 1px, 1px);height: 1px;margin: -1px;overflow: hidden;padding: 0;position: absolute;width: 1px;}#sk-container-id-1 div.sk-estimator {font-family: monospace;background-color: #f0f8ff;border: 1px dotted black;border-radius: 0.25em;box-sizing: border-box;margin-bottom: 0.5em;}#sk-container-id-1 div.sk-estimator:hover {background-color: #d4ebff;}#sk-container-id-1 div.sk-parallel-item::after {content: \"\";width: 100%;border-bottom: 1px solid gray;flex-grow: 1;}#sk-container-id-1 div.sk-label:hover label.sk-toggleable__label {background-color: #d4ebff;}#sk-container-id-1 div.sk-serial::before {content: \"\";position: absolute;border-left: 1px solid gray;box-sizing: border-box;top: 0;bottom: 0;left: 50%;z-index: 0;}#sk-container-id-1 div.sk-serial {display: flex;flex-direction: column;align-items: center;background-color: white;padding-right: 0.2em;padding-left: 0.2em;position: relative;}#sk-container-id-1 div.sk-item {position: relative;z-index: 1;}#sk-container-id-1 div.sk-parallel {display: flex;align-items: stretch;justify-content: center;background-color: white;position: relative;}#sk-container-id-1 div.sk-item::before, #sk-container-id-1 div.sk-parallel-item::before {content: \"\";position: absolute;border-left: 1px solid gray;box-sizing: border-box;top: 0;bottom: 0;left: 50%;z-index: -1;}#sk-container-id-1 div.sk-parallel-item {display: flex;flex-direction: column;z-index: 1;position: relative;background-color: white;}#sk-container-id-1 div.sk-parallel-item:first-child::after {align-self: flex-end;width: 50%;}#sk-container-id-1 div.sk-parallel-item:last-child::after {align-self: flex-start;width: 50%;}#sk-container-id-1 div.sk-parallel-item:only-child::after {width: 0;}#sk-container-id-1 div.sk-dashed-wrapped {border: 1px dashed gray;margin: 0 0.4em 0.5em 0.4em;box-sizing: border-box;padding-bottom: 0.4em;background-color: white;}#sk-container-id-1 div.sk-label label {font-family: monospace;font-weight: bold;display: inline-block;line-height: 1.2em;}#sk-container-id-1 div.sk-label-container {text-align: center;}#sk-container-id-1 div.sk-container {/* jupyter's `normalize.less` sets `[hidden] { display: none; }` but bootstrap.min.css set `[hidden] { display: none !important; }` so we also need the `!important` here to be able to override the default hidden behavior on the sphinx rendered scikit-learn.org. See: https://github.com/scikit-learn/scikit-learn/issues/21755 */display: inline-block !important;position: relative;}#sk-container-id-1 div.sk-text-repr-fallback {display: none;}</style><div id=\"sk-container-id-1\" class=\"sk-top-container\"><div class=\"sk-text-repr-fallback\"><pre>LinearRegression()</pre><b>In a Jupyter environment, please rerun this cell to show the HTML representation or trust the notebook. <br />On GitHub, the HTML representation is unable to render, please try loading this page with nbviewer.org.</b></div><div class=\"sk-container\" hidden><div class=\"sk-item\"><div class=\"sk-estimator sk-toggleable\"><input class=\"sk-toggleable__control sk-hidden--visually\" id=\"sk-estimator-id-1\" type=\"checkbox\" checked><label for=\"sk-estimator-id-1\" class=\"sk-toggleable__label sk-toggleable__label-arrow\">LinearRegression</label><div class=\"sk-toggleable__content\"><pre>LinearRegression()</pre></div></div></div></div></div>"
      ],
      "text/plain": [
       "LinearRegression()"
      ]
     },
     "execution_count": 32,
     "metadata": {},
     "output_type": "execute_result"
    }
   ],
   "source": [
    "regressor.fit(X_train,y_train)"
   ]
  },
  {
   "cell_type": "code",
   "execution_count": 33,
   "id": "61002a2b",
   "metadata": {},
   "outputs": [
    {
     "data": {
      "text/html": [
       "<div>\n",
       "<style scoped>\n",
       "    .dataframe tbody tr th:only-of-type {\n",
       "        vertical-align: middle;\n",
       "    }\n",
       "\n",
       "    .dataframe tbody tr th {\n",
       "        vertical-align: top;\n",
       "    }\n",
       "\n",
       "    .dataframe thead th {\n",
       "        text-align: right;\n",
       "    }\n",
       "</style>\n",
       "<table border=\"1\" class=\"dataframe\">\n",
       "  <thead>\n",
       "    <tr style=\"text-align: right;\">\n",
       "      <th></th>\n",
       "      <th>man(korean)</th>\n",
       "      <th>woman(korean)</th>\n",
       "      <th>man(foreigner)</th>\n",
       "      <th>woman(foreigner)</th>\n",
       "    </tr>\n",
       "    <tr>\n",
       "      <th>year</th>\n",
       "      <th></th>\n",
       "      <th></th>\n",
       "      <th></th>\n",
       "      <th></th>\n",
       "    </tr>\n",
       "  </thead>\n",
       "  <tbody>\n",
       "    <tr>\n",
       "      <th>2016</th>\n",
       "      <td>1477671</td>\n",
       "      <td>1465398</td>\n",
       "      <td>34394</td>\n",
       "      <td>24709</td>\n",
       "    </tr>\n",
       "    <tr>\n",
       "      <th>2011</th>\n",
       "      <td>1410980</td>\n",
       "      <td>1390294</td>\n",
       "      <td>30523</td>\n",
       "      <td>19694</td>\n",
       "    </tr>\n",
       "    <tr>\n",
       "      <th>2018</th>\n",
       "      <td>1481844</td>\n",
       "      <td>1472798</td>\n",
       "      <td>39200</td>\n",
       "      <td>28669</td>\n",
       "    </tr>\n",
       "    <tr>\n",
       "      <th>2013</th>\n",
       "      <td>1448835</td>\n",
       "      <td>1430947</td>\n",
       "      <td>30027</td>\n",
       "      <td>20355</td>\n",
       "    </tr>\n",
       "    <tr>\n",
       "      <th>2020</th>\n",
       "      <td>1473943</td>\n",
       "      <td>1468885</td>\n",
       "      <td>38152</td>\n",
       "      <td>29496</td>\n",
       "    </tr>\n",
       "    <tr>\n",
       "      <th>2015</th>\n",
       "      <td>1469869</td>\n",
       "      <td>1455946</td>\n",
       "      <td>33770</td>\n",
       "      <td>23899</td>\n",
       "    </tr>\n",
       "    <tr>\n",
       "      <th>2014</th>\n",
       "      <td>1459074</td>\n",
       "      <td>1443534</td>\n",
       "      <td>33030</td>\n",
       "      <td>22293</td>\n",
       "    </tr>\n",
       "    <tr>\n",
       "      <th>2017</th>\n",
       "      <td>1479597</td>\n",
       "      <td>1468945</td>\n",
       "      <td>36353</td>\n",
       "      <td>26243</td>\n",
       "    </tr>\n",
       "  </tbody>\n",
       "</table>\n",
       "</div>"
      ],
      "text/plain": [
       "      man(korean)  woman(korean)  man(foreigner)  woman(foreigner)\n",
       "year                                                              \n",
       "2016      1477671        1465398           34394             24709\n",
       "2011      1410980        1390294           30523             19694\n",
       "2018      1481844        1472798           39200             28669\n",
       "2013      1448835        1430947           30027             20355\n",
       "2020      1473943        1468885           38152             29496\n",
       "2015      1469869        1455946           33770             23899\n",
       "2014      1459074        1443534           33030             22293\n",
       "2017      1479597        1468945           36353             26243"
      ]
     },
     "execution_count": 33,
     "metadata": {},
     "output_type": "execute_result"
    }
   ],
   "source": [
    "X_train"
   ]
  },
  {
   "cell_type": "code",
   "execution_count": 34,
   "id": "7368d8a1",
   "metadata": {},
   "outputs": [],
   "source": [
    "y_pred = regressor.predict(X_test) #테스트 값을 넣고 예측."
   ]
  },
  {
   "cell_type": "code",
   "execution_count": 35,
   "id": "799e9e38",
   "metadata": {},
   "outputs": [
    {
     "data": {
      "text/plain": [
       "array([375800.23675612, 269436.39108405])"
      ]
     },
     "execution_count": 35,
     "metadata": {},
     "output_type": "execute_result"
    }
   ],
   "source": [
    "y_pred"
   ]
  },
  {
   "cell_type": "code",
   "execution_count": 36,
   "id": "57b897d8",
   "metadata": {},
   "outputs": [
    {
     "data": {
      "text/plain": [
       "year\n",
       "2019    384506\n",
       "2012    260107\n",
       "Name: oldman, dtype: int64"
      ]
     },
     "execution_count": 36,
     "metadata": {},
     "output_type": "execute_result"
    }
   ],
   "source": [
    "y_test"
   ]
  },
  {
   "cell_type": "code",
   "execution_count": 37,
   "id": "f8b591c9",
   "metadata": {},
   "outputs": [
    {
     "data": {
      "text/plain": [
       "81413925.8288286"
      ]
     },
     "execution_count": 37,
     "metadata": {},
     "output_type": "execute_result"
    }
   ],
   "source": [
    "((y_test - y_pred) ** 2 ).mean()"
   ]
  },
  {
   "cell_type": "code",
   "execution_count": 38,
   "id": "4c160abb",
   "metadata": {},
   "outputs": [],
   "source": [
    "new_data = np.array( [1477671,1465398,34394,24709] )"
   ]
  },
  {
   "cell_type": "code",
   "execution_count": 39,
   "id": "b87b29e9",
   "metadata": {},
   "outputs": [
    {
     "data": {
      "text/plain": [
       "array([1477671, 1465398,   34394,   24709])"
      ]
     },
     "execution_count": 39,
     "metadata": {},
     "output_type": "execute_result"
    }
   ],
   "source": [
    "new_data"
   ]
  },
  {
   "cell_type": "code",
   "execution_count": 40,
   "id": "66426c7f",
   "metadata": {},
   "outputs": [],
   "source": [
    "new_data = new_data.reshape(1,4)"
   ]
  },
  {
   "cell_type": "code",
   "execution_count": 41,
   "id": "6fdac43e",
   "metadata": {},
   "outputs": [
    {
     "data": {
      "text/plain": [
       "2"
      ]
     },
     "execution_count": 41,
     "metadata": {},
     "output_type": "execute_result"
    }
   ],
   "source": [
    "new_data.ndim"
   ]
  },
  {
   "cell_type": "code",
   "execution_count": 42,
   "id": "aaef3d77",
   "metadata": {},
   "outputs": [
    {
     "name": "stderr",
     "output_type": "stream",
     "text": [
      "C:\\ProgramData\\anaconda3\\Lib\\site-packages\\sklearn\\base.py:464: UserWarning: X does not have valid feature names, but LinearRegression was fitted with feature names\n",
      "  warnings.warn(\n"
     ]
    },
    {
     "data": {
      "text/plain": [
       "array([330123.12742284])"
      ]
     },
     "execution_count": 42,
     "metadata": {},
     "output_type": "execute_result"
    }
   ],
   "source": [
    "regressor.predict(new_data) ## 예측"
   ]
  },
  {
   "cell_type": "code",
   "execution_count": 43,
   "id": "0b9d1bd4",
   "metadata": {},
   "outputs": [],
   "source": [
    "import joblib"
   ]
  },
  {
   "cell_type": "code",
   "execution_count": 44,
   "id": "f5952577",
   "metadata": {},
   "outputs": [
    {
     "data": {
      "text/plain": [
       "['regressor.pkl']"
      ]
     },
     "execution_count": 44,
     "metadata": {},
     "output_type": "execute_result"
    }
   ],
   "source": [
    "joblib.dump(regressor,'regressor.pkl')"
   ]
  },
  {
   "cell_type": "code",
   "execution_count": null,
   "id": "d9bf66d7",
   "metadata": {},
   "outputs": [],
   "source": []
  }
 ],
 "metadata": {
  "kernelspec": {
   "display_name": "Python 3 (ipykernel)",
   "language": "python",
   "name": "python3"
  },
  "language_info": {
   "codemirror_mode": {
    "name": "ipython",
    "version": 3
   },
   "file_extension": ".py",
   "mimetype": "text/x-python",
   "name": "python",
   "nbconvert_exporter": "python",
   "pygments_lexer": "ipython3",
   "version": "3.11.4"
  }
 },
 "nbformat": 4,
 "nbformat_minor": 5
}
